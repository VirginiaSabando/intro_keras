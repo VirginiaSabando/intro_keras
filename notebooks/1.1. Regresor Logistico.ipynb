{
 "cells": [
  {
   "cell_type": "markdown",
   "metadata": {},
   "source": [
    "<hr>\n",
    "\n",
    "<img align=\"left\" src=\"https://upload.wikimedia.org/wikipedia/commons/thumb/5/53/UNAL_Aplicación_Medell%C3%ADn.svg/1280px-UNAL_Aplicación_Medell%C3%ADn.svg.png\" width=\"300\"/>\n",
    "\n",
    "<img align=\"left\" src=\"http://www.redttu.edu.co/es/wp-content/uploads/2016/01/itm.png\" width=\"300\"/> \n",
    "    \n",
    "<img align=\"left\" src=\"https://www.cienciasdelaadministracion.uns.edu.ar/wp-content/themes/enlighten-pro/images/logo-uns-horizontal.png\" width=\"300\"/>\n"
   ]
  },
  {
   "cell_type": "markdown",
   "metadata": {},
   "source": [
    "<hr>\n",
    "\n",
    "#### Pedro Atencio Ortiz - 2019\n",
    "\n",
    "# 1. Regresor logístico como una neurona\n",
    "\n",
    "En este notebook abordaremos los siguientes tópicos:\n",
    "\n",
    "- Análisis desde el grafo de cómputo.\n",
    "- Implementación tradicional.\n",
    "- Broadcasting / Vectorization.\n",
    "- Implementación vectorizada.\n",
    "- Descenso del gradiente."
   ]
  },
  {
   "cell_type": "markdown",
   "metadata": {},
   "source": [
    "<hr>\n",
    "\n",
    "## 1.1. Análisis desde el grafo de cómputo"
   ]
  },
  {
   "cell_type": "markdown",
   "metadata": {},
   "source": [
    "Un regresor logístico es un modelo de __clasificación lineal__ definido así: \n",
    "\n",
    "<center><font size=5>$a = f(wx+b)$</font></center>\n",
    "\n",
    "Donde $f$ es la función sigmoide definida como: \n",
    "\n",
    "<center><font size=5>$f(z) = sigmoid(z) = \\frac{1}{1 + e^{-z}}$</font></center>\n",
    "\n",
    "Finalmente, para poder optimizar este modelo, es necesario contar con una estimación de su error o pérdida. Para ello utilizamos la función __logistic loss__ o pérdida logística definida cómo:\n",
    "\n",
    "<br>\n",
    "\n",
    "<center><font size=5>$logloss(a, y) = l(a, y) = -(y.log(a) + (1-y).log(1-a))$</font></center>\n",
    "\n",
    "<br>\n",
    "\n",
    "Una forma de analizar este proceso consiste en desplegarlo como un grafo de cómputo. En la siguiente gráfica se puede observar la secuencia de procesamiento desde la entrada $x$ hacia la salida $a$ de un __regresor logístico__, así como la función de error $loss$ o $l$ que depende de la salida $a$ y del valor esperado $y$.\n",
    "\n",
    "<img align=\"center\" src=\"https://github.com/psatencio/intro_keras/blob/master/figures/grafo_regresor_logistico.png?raw=true\" width=\"700\"/>\n",
    "\n",
    "Implementemos este flujo de datos de una manera simple."
   ]
  },
  {
   "cell_type": "code",
   "execution_count": 1,
   "metadata": {},
   "outputs": [],
   "source": [
    "import math\n",
    "import random\n",
    "import numpy as np\n",
    "import matplotlib.pyplot as plt"
   ]
  },
  {
   "cell_type": "code",
   "execution_count": 2,
   "metadata": {},
   "outputs": [],
   "source": [
    "def sigmoid(z):\n",
    "    return 1. / (1. + math.exp(-z))\n",
    "\n",
    "def logloss(a, y):\n",
    "    return -(y * math.log(a) + (1-y) * math.log(1-a))"
   ]
  },
  {
   "cell_type": "code",
   "execution_count": 3,
   "metadata": {},
   "outputs": [
    {
     "data": {
      "image/png": "[encoded data removed]",
      "text/plain": [
       "<Figure size 1080x360 with 2 Axes>"
      ]
     },
     "metadata": {
      "needs_background": "light"
     },
     "output_type": "display_data"
    }
   ],
   "source": [
    "#Visualizemos como se comportan la funcion sigmoide y el error logistico\n",
    "\n",
    "plt.figure(figsize=(15,5))\n",
    "\n",
    "x = np.linspace(-5,5,30)\n",
    "y = np.array([sigmoid(z) for z in x]) #comprehension\n",
    "\n",
    "plt.subplot(121)\n",
    "plt.grid()\n",
    "plt.plot(x,y)\n",
    "plt.xlabel(\"z\", fontsize=12)\n",
    "plt.ylabel(r'$sigmoid(z)$', fontsize=12)\n",
    "\n",
    "plt.subplot(122)\n",
    "epsilon = 1E-5\n",
    "a = np.linspace(epsilon,1-epsilon, 100) #prediction\n",
    "l = np.array([logloss(t,(1-t)) for t in a]) #comprehension\n",
    "\n",
    "plt.grid()\n",
    "plt.plot(a,l)\n",
    "plt.xlabel(r'$a$', fontsize=12)\n",
    "plt.ylabel(r'$logloss(a, (1-a))$', fontsize=12)\n",
    "\n",
    "plt.show()"
   ]
  },
  {
   "cell_type": "markdown",
   "metadata": {},
   "source": [
    "<hr>\n",
    "\n",
    "## 1.2. Implementación tradicional\n",
    "\n",
    "Ahora procedamos a implementar el grafo de cómputo del regresor logístico a partir de lo definido anteriormente."
   ]
  },
  {
   "cell_type": "code",
   "execution_count": 4,
   "metadata": {},
   "outputs": [
    {
     "name": "stdout",
     "output_type": "stream",
     "text": [
      "Prediccion: 0.2891 \n",
      "Error: 1.2412\n"
     ]
    }
   ],
   "source": [
    "# parametros del regresor\n",
    "w = -0.5\n",
    "b = -1.5\n",
    "\n",
    "#ejemplo del dataset\n",
    "x = -1.2\n",
    "y = 1\n",
    "\n",
    "z = w * x + b\n",
    "a = sigmoid(z) #prediccion\n",
    "l = logloss(a, y) #error logistico\n",
    "\n",
    "print(\"Prediccion: %.4f \"%(a))\n",
    "print(\"Error: %.4f\"%(l))"
   ]
  },
  {
   "cell_type": "markdown",
   "metadata": {},
   "source": [
    "Ahora, la implementación anterior funciona para un solo ejemplo de un dataset, y por ello, en caso de querer computar todas las predicciones para un dataset, es necesario utilizar ciclos."
   ]
  },
  {
   "cell_type": "code",
   "execution_count": 5,
   "metadata": {},
   "outputs": [
    {
     "name": "stdout",
     "output_type": "stream",
     "text": [
      "prediccion - dato 0: 0.1521\n",
      "logloss - dato 0: 1.8830\n",
      "prediccion - dato 1: 0.1805\n",
      "logloss - dato 1: 1.7120\n",
      "prediccion - dato 2: 0.1449\n",
      "logloss - dato 2: 0.1566\n",
      "prediccion - dato 3: 0.1522\n",
      "logloss - dato 3: 1.8827\n",
      "prediccion - dato 4: 0.1531\n",
      "logloss - dato 4: 0.1662\n",
      "prediccion - dato 5: 0.1591\n",
      "logloss - dato 5: 1.8384\n",
      "prediccion - dato 6: 0.1677\n",
      "logloss - dato 6: 1.7858\n",
      "prediccion - dato 7: 0.1407\n",
      "logloss - dato 7: 0.1516\n",
      "prediccion - dato 8: 0.1611\n",
      "logloss - dato 8: 1.8255\n",
      "prediccion - dato 9: 0.1634\n",
      "logloss - dato 9: 0.1784\n"
     ]
    }
   ],
   "source": [
    "np.random.seed(2)\n",
    "\n",
    "#dataset\n",
    "X = np.random.random([10]) #100 inputs aleatorios\n",
    "Y = np.round(np.random.random([10])) #100 clases aleatorias 0,1\n",
    "\n",
    "#parametros del regresor\n",
    "w = -0.5\n",
    "b = -1.5\n",
    "\n",
    "for (i,x) in enumerate(X):\n",
    "    a = sigmoid(w * x + b)\n",
    "    l = logloss(a, Y[i])\n",
    "    \n",
    "    print(\"prediccion - dato %i: %.4f\"%(i,a))\n",
    "    print(\"logloss - dato %i: %.4f\"%(i,l))"
   ]
  },
  {
   "cell_type": "markdown",
   "metadata": {},
   "source": [
    "<hr>\n",
    "\n",
    "<font size=4>\n",
    "    \n",
    "__Analicemos__: \n",
    "\n",
    "En el ejemplo anterior, tanto la entrada como la salida tenian dimension $\\rm I\\!R$. Qué pasaría con la implementación anterior si la entrada tuviera dimensión $\\rm I\\!R^{2}?$\n",
    "\n",
    "</font>"
   ]
  },
  {
   "cell_type": "markdown",
   "metadata": {},
   "source": [
    "<hr>\n",
    "\n",
    "## 1.3. Vectorization / Broadcasting\n",
    "\n",
    "Algunas operaciones entre conjuntos de datos pueden ser vectorizadas y expandidas (broadcasted) en Python utilizando para ello algunas operaciones algebraicas y la librería Numpy. Este es el caso de la operacion $z = wx+b$ que para el caso en que $x \\in \\rm I\\!R^{nx}$ equivale a la sumatoria de cada caracteristica por sample , multiplicada por su respectivo $w$, lo que finalmente equivale a un __producto punto__ (escalar) entre $x$ y $w$:\n",
    "\n",
    "<br>\n",
    "\n",
    "<font size=5><center>$\\sum_j^{nx}{x_j*w_j} = w^T.x$</center></font>\n",
    "\n",
    "Esto, además de facilitar la implementación del regresor, hace más eficiente su cálculo. Discutamos el siguiente ejemplo:"
   ]
  },
  {
   "cell_type": "code",
   "execution_count": 6,
   "metadata": {},
   "outputs": [],
   "source": [
    "import numpy as np\n",
    "from time import time"
   ]
  },
  {
   "cell_type": "code",
   "execution_count": 15,
   "metadata": {},
   "outputs": [],
   "source": [
    "# Generemos 10 millones de datos y computemos la sumatoria de su productoria\n",
    "\n",
    "np.random.seed(2)\n",
    "n = int(10E6)\n",
    "A = np.random.rand(n)\n",
    "B = np.random.rand(n)"
   ]
  },
  {
   "cell_type": "code",
   "execution_count": 8,
   "metadata": {},
   "outputs": [
    {
     "name": "stdout",
     "output_type": "stream",
     "text": [
      "Resultado: 2501003.0002\n",
      "Tiempo transcurrido (ms) 8220.741987228394\n"
     ]
    }
   ],
   "source": [
    "# Forma tradicional\n",
    "tic = time()\n",
    "\n",
    "s = 0\n",
    "for i in range(n):\n",
    "    s += A[i] * B[i]\n",
    "\n",
    "toc = time()\n",
    "\n",
    "print(\"Resultado: %.4f\"%(s))\n",
    "print(\"Tiempo transcurrido (ms)\", (toc-tic)*1000)"
   ]
  },
  {
   "cell_type": "code",
   "execution_count": 16,
   "metadata": {},
   "outputs": [
    {
     "name": "stdout",
     "output_type": "stream",
     "text": [
      "Resultado: 2501003.0002 \n",
      "Tiempo transcurrido (ms) 9.309053421020508\n"
     ]
    }
   ],
   "source": [
    "# Forma vectorizada\n",
    "tic = time()\n",
    "\n",
    "s = np.dot(A, B)\n",
    "\n",
    "toc = time()\n",
    "\n",
    "print(\"Resultado: %.4f \"%(s))\n",
    "print(\"Tiempo transcurrido (ms)\", (toc-tic)*1000)"
   ]
  },
  {
   "cell_type": "markdown",
   "metadata": {},
   "source": [
    "<hr>\n",
    "\n",
    "Ahora, debemos considerar que nuestro dataset tiene un tamaño $m$, es decir, $m$ ejemplos, cada uno de dimensión $\\rm I\\!R^{nx}$. __Implica esto que ahora debamos hacer un ciclo para iterar por todo el dataset?__\n",
    "\n",
    "La librería numpy soporta una operación conocida como __broadcast__, la cual permite replicar operaciones entre dos arreglos de distinta dimensión, siempre que estos compartan una de las dimensiones y uno de ellos tenga magnitud 1 en una de sus dimensiones. Para ello Python replicará uno de los dos vectores y ejecutará la operación. Esto se puede generalizar de la siguiente manera:\n",
    "\n",
    "<br>\n",
    "\n",
    "<center><font size=5>$A_{(m,n)} + B_{(m, 1)} \\rightarrow  A_{(m,n)} + B_{(m, n)}$</font></center>\n",
    "<center><font size=5>$A_{(m,n)} + B_{(1, n)} \\rightarrow  A_{(m,n)} + B_{(m, n)}$</font></center>\n",
    "\n",
    "\n",
    "Analicemos el siguiente ejemplo."
   ]
  },
  {
   "cell_type": "code",
   "execution_count": 10,
   "metadata": {},
   "outputs": [
    {
     "name": "stdout",
     "output_type": "stream",
     "text": [
      "Array A: \n",
      " [[0.4359949  0.02592623 0.54966248]\n",
      " [0.43532239 0.4203678  0.33033482]\n",
      " [0.20464863 0.61927097 0.29965467]\n",
      " [0.26682728 0.62113383 0.52914209]]\n",
      "Array B: \n",
      " [[0.13457995]\n",
      " [0.51357812]\n",
      " [0.18443987]\n",
      " [0.78533515]]\n",
      "A + B:\n",
      "  [[0.57057485 0.16050618 0.68424242]\n",
      " [0.94890051 0.93394592 0.84391294]\n",
      " [0.3890885  0.80371083 0.48409454]\n",
      " [1.05216242 1.40646898 1.31447724]]\n"
     ]
    }
   ],
   "source": [
    "np.random.seed(2)\n",
    "\n",
    "A = np.random.rand(4,3)\n",
    "k = np.random.rand(4,1)\n",
    "\n",
    "print(\"Array A: \\n\", A)\n",
    "print(\"Array B: \\n\", k)\n",
    "\n",
    "print(\"A + B:\\n \",A+k)"
   ]
  },
  {
   "cell_type": "markdown",
   "metadata": {},
   "source": [
    "<hr>\n",
    "\n",
    "## 1.4. Implementación vectorizada\n",
    "\n",
    "A partir de lo anterior, entonces podemos concluir que el producto punto en Python vectoriza la operación $wX+b$ y a la vez extiende la operación para todos los datos del dataset por broadcast. Revisemos ahora la implementación vectorizada del regresor logístico."
   ]
  },
  {
   "cell_type": "code",
   "execution_count": 11,
   "metadata": {},
   "outputs": [],
   "source": [
    "def linear_activation(W, b, X):\n",
    "    z = np.dot(W.T,X) + b\n",
    "    \n",
    "    return z\n",
    "\n",
    "def sigmoid(z):\n",
    "    a = 1. / (1. + np.exp(-z)) \n",
    "    \n",
    "    return a \n",
    "\n",
    "def logloss(y, a):\n",
    "    return -(y * np.log(a) + (1-y) * np.log(1-a))\n",
    "\n",
    "def cost(L):\n",
    "    return np.mean(L)"
   ]
  },
  {
   "cell_type": "code",
   "execution_count": 12,
   "metadata": {},
   "outputs": [
    {
     "name": "stdout",
     "output_type": "stream",
     "text": [
      "Predicciones:  [0.15212928 0.18050007 0.14494255 0.15217266 0.15313986 0.15906955\n",
      " 0.16765701 0.14068219 0.16113229 0.16336326] \n",
      "\n",
      "Errores:  [1.88302456 1.71202409 0.15658661 1.88273947 0.16621973 1.83841374\n",
      " 1.78583499 0.15161644 1.82552959 0.17836531] \n",
      "\n",
      "Error total (costo):  1.1580354539596054\n"
     ]
    }
   ],
   "source": [
    "np.random.seed(2)\n",
    "\n",
    "#dataset\n",
    "X = np.random.random([1, 10]) #100 inputs aleatorios\n",
    "Y = np.round(np.random.random([10])) #100 clases aleatorias 0,1\n",
    "\n",
    "#parametros del regresor\n",
    "w = np.array([-0.5])\n",
    "b = -1.5\n",
    "\n",
    "Z = linear_activation(w, b, X)\n",
    "A = sigmoid(Z)\n",
    "L = logloss(Y, A)\n",
    "    \n",
    "print(\"Predicciones: \",A,\"\\n\")\n",
    "print(\"Errores: \", L, \"\\n\")\n",
    "print(\"Error total (costo): \", cost(L))"
   ]
  },
  {
   "cell_type": "markdown",
   "metadata": {},
   "source": [
    "<hr>\n",
    "\n",
    "## 1.5. Descenso del gradiente\n",
    "\n",
    "El descenso del gradiente, es un algoritmo de optimización que utiliza el gradiente del error respecto a los parámetros de una función, para actualizar los mismos de manera iterativa hasta estabilizarse en un mínimo.\n",
    "\n",
    "<br>\n",
    "\n",
    "Sea $f(\\theta)$ una función __diferenciable__ para la cual se desea encontrar el valor de $\\theta$ tal que la minimice, el descenso del gradiente se puede plantear como:\n",
    "\n",
    "<br>\n",
    "\n",
    "<font size=3>\n",
    "$\n",
    "\\\\\n",
    "repetir\\{\n",
    "\\\\\n",
    "\\hspace{10mm} d \\theta = \\frac{df}{d \\theta}\n",
    "\\\\\n",
    "\\hspace{10mm} \\theta = \\theta - \\alpha d \\theta\n",
    "\\\\\n",
    "\\}\n",
    "$\n",
    "</font>\n",
    "\n",
    "\n",
    "En el caso concreto del regresor logístico, nos interesa encontrar los parametros $w$ y $b$ tales que minicen el error $logloss$. En ese caso el descenso del gradiente queda:\n",
    "\n",
    "<br>\n",
    "\n",
    "<font size=3>\n",
    "$\n",
    "\\\\\n",
    "repetir\\{\n",
    "\\\\\n",
    "\\hspace{10mm} dw = \\frac{dLoss}{dw}\n",
    "\\\\\n",
    "\\hspace{10mm} db = \\frac{dLoss}{db}\n",
    "\\\\\n",
    "\\hspace{10mm} w = w - \\alpha. dw\n",
    "\\\\\n",
    "\\hspace{10mm} b = b - \\alpha. db\n",
    "\\\\\n",
    "\\}\n",
    "$\n",
    "</font>"
   ]
  },
  {
   "cell_type": "markdown",
   "metadata": {},
   "source": [
    "<hr>\n",
    "\n",
    "<font size=3>\n",
    "    \n",
    "__Trabajemos__:\n",
    "\n",
    "Desarrollemos las derivadas de los parámetros $w$ y $b$ a partir del gráfo de cómputo.\n",
    "\n",
    "</font>\n",
    "\n",
    "<img align=\"center\" src=\"https://github.com/psatencio/intro_keras/blob/master/figures/backprop.png?raw=true\" width=\"700\"/>"
   ]
  },
  {
   "cell_type": "markdown",
   "metadata": {},
   "source": [
    "<hr>\n",
    "\n",
    "Finalmente, el descenso del gradiente en implementación vectorizada queda definido como:\n",
    "\n",
    "<br>\n",
    "\n",
    "<i>\n",
    "    \n",
    "__FOR__ $i=1 \\rightarrow$ epochs:\n",
    "\n",
    "    //forward propagation\n",
    "    Z = W.T*X+b\n",
    "    A = sig(Z)\n",
    "    \n",
    "    //cálculo de los gradientes de los parámetros\n",
    "    dz = A-Y\n",
    "    dW = (X*dz.T) / m\n",
    "    db = sum(dz) / m\n",
    "    \n",
    "    //cálculo del costo\n",
    "    J = cost(loss(Y,A))\n",
    "    \n",
    "    //actualizacion de parametros\n",
    "    W = W - learning_rate*dW\n",
    "    b = b - learning_rate*db\n",
    "__END FOR__\n",
    "    \n",
    "</i>\n",
    "\n",
    "\n",
    "<br>\n",
    "\n",
    "Implementemos el proceso completo con descenso del gradiente, utilizando los conceptos de vectorization y brocasting. Para ello, generemos primero un dataset sintético de clasificación binaria mediante las siguientes funciones utilitarias."
   ]
  },
  {
   "cell_type": "code",
   "execution_count": 191,
   "metadata": {},
   "outputs": [],
   "source": [
    "'''\n",
    "Utility functions\n",
    "'''\n",
    "\n",
    "import numpy as np\n",
    "import sklearn\n",
    "from sklearn import datasets\n",
    "import matplotlib.pyplot as plt\n",
    "\n",
    "def generate_data(data_type, noise=0.2):\n",
    "    \"\"\"\n",
    "    Generate a binary dataset with distribution data_type\n",
    "\n",
    "    Arguments:\n",
    "    data_type -- distribution of dataset {moons,circles,blobs}\n",
    "\n",
    "    Returns:\n",
    "    X -- features\n",
    "    Y -- labels\n",
    "    \"\"\" \n",
    "    np.random.seed(0)\n",
    "    if data_type == 'moons':\n",
    "        X, Y = datasets.make_moons(200, noise=noise)\n",
    "    elif data_type == 'circles':\n",
    "        X, Y = sklearn.datasets.make_circles(200, noise=noise)\n",
    "    elif data_type == 'blobs':\n",
    "        X, Y = sklearn.datasets.make_blobs(centers=2, cluster_std=noise)\n",
    "    return X, Y\n",
    "\n",
    "def predict(W,b,X):\n",
    "    z = linear_activation(W,b,X)\n",
    "    A = sigmoid(z)\n",
    "    return np.round(A)\n",
    "    #return A\n",
    "\n",
    "def visualize_lr(W, b, X, y):\n",
    "    \"\"\"\n",
    "    Plots a classification boundary for a logistic regression model\n",
    "    defined by W and b, using X (inputs) and y (outputs)\n",
    "\n",
    "    Arguments:\n",
    "    data_type -- distribution of dataset {moons,circles,blobs}\n",
    "\n",
    "    Returns:\n",
    "    W -- weights of lr model\n",
    "    b -- bias of lr model\n",
    "    X -- features\n",
    "    y -- labels\n",
    "    \"\"\"\n",
    "    X = X.T\n",
    "    # Set min and max values and give it some padding\n",
    "    x_min, x_max = X[:, 0].min() - .5, X[:, 0].max() + .5\n",
    "    y_min, y_max = X[:, 1].min() - .5, X[:, 1].max() + .5\n",
    "    h = 0.01\n",
    "    # Generate a grid of points with distance h between them\n",
    "    xx, yy = np.meshgrid(np.arange(x_min, x_max, h), np.arange(y_min, y_max, h))\n",
    "    # Predict the function value for the whole gid\n",
    "    Z = predict(W,b,np.c_[xx.ravel(), yy.ravel()].T)\n",
    "    Z = Z.reshape(xx.shape)\n",
    "    # Plot the contour and training examples\n",
    "    #plt.figure(figsize=(7,5))\n",
    "    #plt.contourf(xx, yy, Z, cmap=plt.cm.Spectral)\n",
    "    \n",
    "    color = ['blue' if y == 1 else 'red' for y in np.squeeze(Y)]\n",
    "    \n",
    "    return (X, color, xx, yy, Z)\n",
    "    #plt.scatter(X[:, 0], X[:, 1], cmap=plt.cm.Spectral, c=color)\n",
    "    #plt.show()"
   ]
  },
  {
   "cell_type": "code",
   "execution_count": 188,
   "metadata": {},
   "outputs": [
    {
     "data": {
      "image/png": "[encoded data removed]",
      "text/plain": [
       "<Figure size 504x360 with 1 Axes>"
      ]
     },
     "metadata": {
      "needs_background": "light"
     },
     "output_type": "display_data"
    },
    {
     "name": "stdout",
     "output_type": "stream",
     "text": [
      "Size(X):  (2, 100)\n",
      "Size(Y):  (1, 100)\n"
     ]
    }
   ],
   "source": [
    "X, Y = generate_data('blobs', 1.5)\n",
    "Y = Y.reshape(1,len(Y))\n",
    "\n",
    "color = ['blue' if y == 1 else 'red' for y in np.squeeze(Y)] # una lista para darle color a las clases\n",
    "\n",
    "plt.figure(figsize=(7,5))\n",
    "plt.scatter(X[:,0], X[:,1], color=color)\n",
    "plt.xlabel(\"Feature 1\")\n",
    "plt.ylabel(\"Feature 2\")\n",
    "plt.grid()\n",
    "\n",
    "plt.show()\n",
    "\n",
    "X = X.T\n",
    "\n",
    "print(\"Size(X): \", X.shape)\n",
    "print(\"Size(Y): \", Y.shape)"
   ]
  },
  {
   "cell_type": "code",
   "execution_count": 189,
   "metadata": {},
   "outputs": [
    {
     "name": "stdout",
     "output_type": "stream",
     "text": [
      "W inicial:  [[0.4359949 ]\n",
      " [0.02592623]]\n",
      "b inicial:  0.5496624778787091\n",
      "W actualizado:  [[ 0.50963713]\n",
      " [-0.91750694]]\n",
      "b actualizado:  1.5264243068508327\n",
      "costo total:  0.341692183471116\n"
     ]
    }
   ],
   "source": [
    "#Regresor logistico + Descenso del gradiente\n",
    "\n",
    "np.random.seed(2)\n",
    "\n",
    "#1.  Parametros del dataset\n",
    "m = len(X) #numero de ejemplos en el dataset.\n",
    "nx = X.shape[0] #dimensionalidad de la entrada o numero de features.\n",
    "\n",
    "#1. Parametros del regresor\n",
    "W = np.random.random([nx, 1]) # W tiene una tamanio de (nx, 1)\n",
    "b = np.random.random()\n",
    "\n",
    "print(\"W inicial: \", W)\n",
    "print(\"b inicial: \", b)\n",
    "\n",
    "#2 . Parametros del descenso del gradiente\n",
    "learning_rate = 0.005\n",
    "num_epochs = 100\n",
    "\n",
    "#3. Estructuras utilitarias\n",
    "history = [] #lista para almacenar el valor de cada \n",
    "\n",
    "for i in range(num_epochs): #1000 iteraciones del descenso del gradiente\n",
    "    '''\n",
    "    Activacion hacia adelante\n",
    "    '''\n",
    "    Z = linear_activation(W,b,X)\n",
    "    A = sigmoid(Z)\n",
    "    \n",
    "    '''\n",
    "    Activacion hacia atras - retropropagacion del error\n",
    "    '''\n",
    "    dz = A - Y\n",
    "    dW = np.dot(X,dz.T) / m\n",
    "    db = np.sum(dz) / m\n",
    "    \n",
    "    '''\n",
    "    Actualizacion de parametros mediante descenso del gradiente\n",
    "    '''\n",
    "    W -= learning_rate * dW\n",
    "    b -= learning_rate * db\n",
    "    \n",
    "    l = logloss(Y,A)\n",
    "    J = cost(l)\n",
    "\n",
    "    history.append(J)\n",
    "\n",
    "print(\"W actualizado: \",W)\n",
    "print(\"b actualizado: \",b)\n",
    "print(\"costo total: \", J)"
   ]
  },
  {
   "cell_type": "code",
   "execution_count": 192,
   "metadata": {},
   "outputs": [
    {
     "data": {
      "image/png": "[encoded data removed]",
      "text/plain": [
       "<Figure size 1080x360 with 2 Axes>"
      ]
     },
     "metadata": {
      "needs_background": "light"
     },
     "output_type": "display_data"
    }
   ],
   "source": [
    "plt.figure(figsize=(15,5))\n",
    "\n",
    "plt.subplot(121)\n",
    "plt.plot(history)\n",
    "plt.xlabel(\"epoch / 10\")\n",
    "plt.ylabel(\"cost == total loss\")\n",
    "plt.grid()\n",
    "\n",
    "(X_pred, color, xx, yy, Z) = visualize_lr(W, b, X, Y)\n",
    "plt.subplot(122)\n",
    "plt.contourf(xx, yy, Z, cmap=plt.cm.bone)\n",
    "plt.scatter(X_pred[:, 0], X_pred[:, 1], cmap=plt.cm.Spectral, c=color)\n",
    "plt.xlabel(\"feature 1\")\n",
    "plt.ylabel(\"feature 2\")\n",
    "\n",
    "plt.show()"
   ]
  },
  {
   "cell_type": "markdown",
   "metadata": {},
   "source": [
    "<hr>\n",
    "\n",
    "<font size=4>\n",
    "    \n",
    "__Analicemos__: \n",
    "\n",
    "1. Observe que el valor de la tasa de aprendizaje (learning_rate) es 0.005. Qué sucede con la convergencia del algoritmo si utilizamos un valor mayor, por ejemplo, $\\alpha = 0.05$ o un valor menor, por ejemplo, $\\alpha=1E-5$?\n",
    "\n",
    "\n",
    "2. En los scripts utilitarios modifique la función __predict__ para que no redondee la predicción. Que puede observar?\n",
    "\n",
    "</font>"
   ]
  },
  {
   "cell_type": "code",
   "execution_count": null,
   "metadata": {},
   "outputs": [],
   "source": []
  }
 ],
 "metadata": {
  "kernelspec": {
   "display_name": "Python 3",
   "language": "python",
   "name": "python3"
  },
  "language_info": {
   "codemirror_mode": {
    "name": "ipython",
    "version": 3
   },
   "file_extension": ".py",
   "mimetype": "text/x-python",
   "name": "python",
   "nbconvert_exporter": "python",
   "pygments_lexer": "ipython3",
   "version": "3.6.2"
  }
 },
 "nbformat": 4,
 "nbformat_minor": 2
}

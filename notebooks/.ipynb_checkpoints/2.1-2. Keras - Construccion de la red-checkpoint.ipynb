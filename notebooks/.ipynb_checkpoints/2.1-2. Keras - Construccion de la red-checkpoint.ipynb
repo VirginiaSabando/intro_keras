{
 "cells": [
  {
   "cell_type": "markdown",
   "metadata": {},
   "source": [
    "<hr>\n",
    "\n",
    "<table style=\"width:100%\">\n",
    "  <tr>\n",
    "    <th><img align=\"center\" src=\"https://upload.wikimedia.org/wikipedia/commons/thumb/5/53/UNAL_Aplicación_Medell%C3%ADn.svg/1280px-UNAL_Aplicación_Medell%C3%ADn.svg.png\" width=\"300\"/></th>\n",
    "    <th><img align=\"center\" src=\"http://www.redttu.edu.co/es/wp-content/uploads/2016/01/itm.png\" width=\"300\"/> </th> \n",
    "    <th><img align=\"center\" src=\"https://www.cienciasdelaadministracion.uns.edu.ar/wp-content/themes/enlighten-pro/images/logo-uns-horizontal.png\" width=\"300\"/></th>\n",
    "  </tr>\n",
    "</table>\n"
   ]
  },
  {
   "cell_type": "markdown",
   "metadata": {},
   "source": [
    "<hr>\n",
    "\n",
    "#### Pedro Atencio Ortiz - 2019 (pedroatencio@itm.edu.co)\n",
    "\n",
    "# Módulo 2\n",
    "\n",
    "# 1. Construccion de la red\n",
    "\n",
    "En este notebook abordaremos los siguientes tópicos:\n",
    "\n",
    "1. Primera red en Keras \n",
    "2. Construcción de redes\n",
    "    1. Construcción como lista.\n",
    "    2. Agregación de capas (model.add).\n",
    "    3. Capa Input y conexión por capa.\n",
    "3. Algunos aspectos técnicos\n",
    "    1. Activations\n",
    "    2. losses\n",
    "    3. optimizers"
   ]
  },
  {
   "cell_type": "code",
   "execution_count": null,
   "metadata": {},
   "outputs": [],
   "source": [
    "# Funciones utilitarias\n",
    "\n",
    "import numpy as np\n",
    "import sklearn\n",
    "from sklearn import datasets\n",
    "import matplotlib.pyplot as plt\n",
    "\n",
    "import warnings\n",
    "warnings.filterwarnings('ignore')\n",
    "\n",
    "def generate_data(data_type, noise=0.2):\n",
    "    \n",
    "    np.random.seed(0)\n",
    "    if data_type == 'moons':\n",
    "        X, Y = datasets.make_moons(200, noise=noise)\n",
    "    elif data_type == 'circles':\n",
    "        X, Y = sklearn.datasets.make_circles(200, noise=noise)\n",
    "    elif data_type == 'blobs':\n",
    "        X, Y = sklearn.datasets.make_blobs(centers=2, cluster_std=noise)\n",
    "    return X, Y\n",
    "\n",
    "def visualize_model(model, X, Y):\n",
    "    XT = np.copy(X)\n",
    "    # Set min and max values and give it some padding\n",
    "    x_min, x_max = XT[:, 0].min() - .5, XT[:, 0].max() + .5\n",
    "    y_min, y_max = XT[:, 1].min() - .5, XT[:, 1].max() + .5\n",
    "    h = 0.01\n",
    "    # Generate a grid of points with distance h between them\n",
    "    xx, yy = np.meshgrid(np.arange(x_min, x_max, h), np.arange(y_min, y_max, h))\n",
    "    # Predict the function value for the whole gid\n",
    "    Z = model.predict(np.c_[xx.ravel(), yy.ravel()])\n",
    "\n",
    "    Z = Z.reshape(xx.shape)\n",
    "    # Plot the contour and training examples\n",
    "    plt.figure(figsize=(7,5))\n",
    "    plt.contourf(xx, yy, Z, cmap=plt.cm.bone)\n",
    "\n",
    "    color = ['blue' if y == 1 else 'red' for y in np.squeeze(Y)]\n",
    "    plt.scatter(X[:,0], X[:,1], color=color)\n",
    "\n",
    "    plt.show()"
   ]
  },
  {
   "cell_type": "markdown",
   "metadata": {},
   "source": [
    "<hr>\n",
    "\n",
    "## 1.1. Primera red en Keras\n",
    "\n",
    "Para este ejercicio, utilizaremos Keras para construir la misma red neuronal del módulo anterior e igualmente entrenaremos la misma mediante los optimizadores de la librería.\n",
    "\n",
    "<img align=\"center\" src=\"https://github.com/psatencio/intro_keras/blob/master/figures/layered_net.png?raw=true\" width=\"500\"/>"
   ]
  },
  {
   "cell_type": "code",
   "execution_count": null,
   "metadata": {},
   "outputs": [],
   "source": [
    "import tensorflow as tf\n",
    "from tensorflow.keras.models import Sequential\n",
    "from tensorflow.keras.layers import Dense\n",
    "from tensorflow.keras.optimizers import RMSprop"
   ]
  },
  {
   "cell_type": "code",
   "execution_count": null,
   "metadata": {},
   "outputs": [],
   "source": [
    "# Dataset\n",
    "X = np.array([[0,0],[0,1],[1,0],[1,1]])\n",
    "Y = np.array([[0], [1], [1], [0]])\n",
    "\n",
    "nx = X.shape[0]\n",
    "m = len(X)"
   ]
  },
  {
   "cell_type": "code",
   "execution_count": null,
   "metadata": {},
   "outputs": [],
   "source": [
    "# Red neuronal\n",
    "model = Sequential()\n",
    "model.add(Dense(units=3, input_dim=2, activation='sigmoid')) #capa 1. La dimensionalidad de la entrada solo se define para la primera capa\n",
    "model.add(Dense(units=1, activation='sigmoid')) #capa 2\n",
    "\n",
    "optimizador = RMSprop(lr=0.7) #optimizador\n",
    "\n",
    "model.compile(optimizer=optimizador,\n",
    "              loss='binary_crossentropy', # funcion loss\n",
    "              metrics=['accuracy']) # metricas complementarias"
   ]
  },
  {
   "cell_type": "code",
   "execution_count": null,
   "metadata": {},
   "outputs": [],
   "source": [
    "history = model.fit(X,Y, epochs=200, verbose=0)\n",
    "\n",
    "print(\"Error (Loss) final: %.4E\"%(np.array(history.history['loss'][-1:]))) #Error final de la lista de errores\n",
    "print(\"Precision (Accuracy) final: %.2f\"%(np.array(history.history['acc'][-1:])))\n",
    "\n",
    "plt.plot(history.history['loss'])\n",
    "plt.plot(history.history['acc'])\n",
    "plt.show()"
   ]
  },
  {
   "cell_type": "code",
   "execution_count": null,
   "metadata": {},
   "outputs": [],
   "source": [
    "visualize_model(model, X, Y)"
   ]
  },
  {
   "cell_type": "markdown",
   "metadata": {},
   "source": [
    "<hr>\n",
    "\n",
    "### Trabajemos\n",
    "\n",
    "<br>\n",
    "\n",
    "<font size=4>\n",
    "\n",
    "1. Utilicemos lo implementado al momento para clasificar los problemas __'moons'__ y __'circles'__ (ver figura siguiente), y probar:\n",
    "\n",
    "<br>\n",
    "\n",
    "<ul>\n",
    "\n",
    "<li>Pruebe agregando más neuronas en la capa 1.</li>\n",
    "<li>Pruebe agregando más capas a la red.</li>\n",
    "<li>Pruebe distintas configuraciones $\\alpha$ (learning rate).</li>\n",
    "<li>Pruebe distintos valores para el número de épocas.</li>\n",
    "</ul>\n",
    "\n",
    "</font>"
   ]
  },
  {
   "cell_type": "code",
   "execution_count": null,
   "metadata": {},
   "outputs": [],
   "source": [
    "X, Y = generate_data('moons', 0.1)\n",
    "\n",
    "color = ['blue' if y == 1 else 'red' for y in np.squeeze(Y)] # una lista para darle color a las clases\n",
    "\n",
    "plt.figure(figsize=(7,5))\n",
    "plt.scatter(X[:,0], X[:,1], color=color)\n",
    "plt.xlabel(\"Feature 1\")\n",
    "plt.ylabel(\"Feature 2\")\n",
    "plt.grid()\n",
    "\n",
    "plt.show()"
   ]
  },
  {
   "cell_type": "markdown",
   "metadata": {},
   "source": [
    "<hr>\n",
    "\n",
    "## 1.2. Formas de construcción.\n",
    "\n",
    "Dependiendo del nivel de especificidad deseado para la arquitectura de la red neuronal, podemos utilizar diferentes formas de construirla (ver figura).\n",
    "\n",
    "<img align=\"center\" src=\"https://github.com/psatencio/intro_keras/blob/master/figures/build_strategies.png?raw=true\" width=\"500\"/>\n",
    "\n",
    "A continuación, analicemos tres formas de construir una misma red neuronal."
   ]
  },
  {
   "cell_type": "code",
   "execution_count": null,
   "metadata": {},
   "outputs": [],
   "source": [
    "# Como lista\n",
    "modelA = Sequential([Dense(units=2, input_dim=2, activation='sigmoid'),\n",
    "                   Dense(units=1, activation='sigmoid')])"
   ]
  },
  {
   "cell_type": "code",
   "execution_count": null,
   "metadata": {},
   "outputs": [],
   "source": [
    "# Utilizando el modulo add (agregar)\n",
    "modelB = Sequential()\n",
    "modelB.add(Dense(units=2, input_dim=2, activation='sigmoid'))\n",
    "modelB.add(Dense(units=1, activation='sigmoid'))"
   ]
  },
  {
   "cell_type": "code",
   "execution_count": null,
   "metadata": {},
   "outputs": [],
   "source": [
    "# Cableando manualmente las capas\n",
    "\n",
    "from tensorflow.keras.layers import Input\n",
    "from tensorflow.keras.models import Model\n",
    "\n",
    "x = Input(shape=(2,))\n",
    "a1 = Dense(units=2, activation='sigmoid')(x)\n",
    "a2 = Dense(units=1, activation='sigmoid')(a1)\n",
    "\n",
    "modelC = Model(inputs=x, outputs=a2)"
   ]
  },
  {
   "cell_type": "code",
   "execution_count": null,
   "metadata": {},
   "outputs": [],
   "source": [
    "optimizador = RMSprop(lr=0.5) #optimizador\n",
    "\n",
    "modelC.compile(optimizer=optimizador,\n",
    "              loss='binary_crossentropy', # funcion loss\n",
    "              metrics=['accuracy']) # metricas complementarias"
   ]
  },
  {
   "cell_type": "code",
   "execution_count": null,
   "metadata": {},
   "outputs": [],
   "source": [
    "history = modelC.fit(X,Y, epochs=200, verbose=0)\n",
    "\n",
    "print(\"Error (Loss) final: %.4E\"%(np.array(history.history['loss'][-1:]))) #Error final de la lista de errores\n",
    "print(\"Precision (Accuracy) final: %.2f\"%(np.array(history.history['acc'][-1:])))\n",
    "\n",
    "plt.plot(history.history['loss'])\n",
    "plt.plot(history.history['acc'])\n",
    "plt.show()"
   ]
  },
  {
   "cell_type": "code",
   "execution_count": null,
   "metadata": {},
   "outputs": [],
   "source": [
    "visualize_model(modelC, X, Y)"
   ]
  },
  {
   "cell_type": "code",
   "execution_count": null,
   "metadata": {},
   "outputs": [],
   "source": []
  }
 ],
 "metadata": {
  "anaconda-cloud": {},
  "kernelspec": {
   "display_name": "Python 3",
   "language": "python",
   "name": "python3"
  },
  "language_info": {
   "codemirror_mode": {
    "name": "ipython",
    "version": 3
   },
   "file_extension": ".py",
   "mimetype": "text/x-python",
   "name": "python",
   "nbconvert_exporter": "python",
   "pygments_lexer": "ipython3",
   "version": "3.6.2"
  }
 },
 "nbformat": 4,
 "nbformat_minor": 2
}

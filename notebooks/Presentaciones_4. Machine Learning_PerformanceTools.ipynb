{
  "cells": [
    {
      "metadata": {
        "trusted": true
      },
      "cell_type": "code",
      "source": "import numpy as np\n#from __future__ import division",
      "execution_count": 1,
      "outputs": []
    },
    {
      "metadata": {
        "trusted": true
      },
      "cell_type": "code",
      "source": "def accuracy(pred, Y):\n    n = len(Y)\n    correctly_classified = np.count_nonzero(Y == pred)\n    \n    return correctly_classified / float(n)",
      "execution_count": 2,
      "outputs": []
    },
    {
      "metadata": {
        "trusted": true
      },
      "cell_type": "code",
      "source": "Y = np.array([0,0,0,1,1,1])\npred = np.array([1,0,0,0,1,1])\n\nprint(accuracy(pred, Y))",
      "execution_count": 3,
      "outputs": [
        {
          "output_type": "stream",
          "text": "0.666666666667\n",
          "name": "stdout"
        }
      ]
    },
    {
      "metadata": {
        "trusted": true
      },
      "cell_type": "code",
      "source": "from sklearn.datasets import load_iris\n\ndataset = load_iris()\nX, Y = dataset.data, dataset.target",
      "execution_count": 4,
      "outputs": []
    },
    {
      "metadata": {
        "trusted": true
      },
      "cell_type": "code",
      "source": "from sklearn.neighbors import KNeighborsClassifier",
      "execution_count": 5,
      "outputs": []
    },
    {
      "metadata": {
        "trusted": true
      },
      "cell_type": "code",
      "source": "model = KNeighborsClassifier(n_neighbors=3)",
      "execution_count": 6,
      "outputs": []
    },
    {
      "metadata": {
        "trusted": true
      },
      "cell_type": "code",
      "source": "model.fit(X, Y)",
      "execution_count": 7,
      "outputs": [
        {
          "output_type": "execute_result",
          "execution_count": 7,
          "data": {
            "text/plain": "KNeighborsClassifier(algorithm='auto', leaf_size=30, metric='minkowski',\n           metric_params=None, n_jobs=1, n_neighbors=3, p=2,\n           weights='uniform')"
          },
          "metadata": {}
        }
      ]
    },
    {
      "metadata": {
        "trusted": true
      },
      "cell_type": "code",
      "source": "preds = model.predict(X)",
      "execution_count": 8,
      "outputs": []
    },
    {
      "metadata": {
        "trusted": true
      },
      "cell_type": "code",
      "source": "print(accuracy(preds, Y))",
      "execution_count": 9,
      "outputs": [
        {
          "output_type": "stream",
          "text": "0.96\n",
          "name": "stdout"
        }
      ]
    },
    {
      "metadata": {
        "trusted": true
      },
      "cell_type": "code",
      "source": "from sklearn.metrics import accuracy_score",
      "execution_count": 10,
      "outputs": []
    },
    {
      "metadata": {
        "trusted": true
      },
      "cell_type": "code",
      "source": "print(accuracy_score(y_true=Y, y_pred=preds))",
      "execution_count": 15,
      "outputs": [
        {
          "output_type": "stream",
          "text": "0.96\n",
          "name": "stdout"
        }
      ]
    },
    {
      "metadata": {
        "trusted": true
      },
      "cell_type": "code",
      "source": "n = np.shape(X)[0]\ntrain_len = int(n * 0.7)\n\nX_train, Y_train = X[0:train_len], Y[0:train_len]\nX_test, Y_test = X[train_len:], Y[train_len:]",
      "execution_count": 16,
      "outputs": []
    },
    {
      "metadata": {
        "trusted": true
      },
      "cell_type": "code",
      "source": "model.fit(X_train, Y_train)",
      "execution_count": 17,
      "outputs": [
        {
          "output_type": "execute_result",
          "execution_count": 17,
          "data": {
            "text/plain": "KNeighborsClassifier(algorithm='auto', leaf_size=30, metric='minkowski',\n           metric_params=None, n_jobs=1, n_neighbors=3, p=2,\n           weights='uniform')"
          },
          "metadata": {}
        }
      ]
    },
    {
      "metadata": {
        "trusted": true
      },
      "cell_type": "code",
      "source": "preds = model.predict(X_test)\nprint(accuracy_score(y_pred=preds, y_true=Y_test))",
      "execution_count": 18,
      "outputs": [
        {
          "output_type": "stream",
          "text": "0.6222222222222222\n",
          "name": "stdout"
        }
      ]
    },
    {
      "metadata": {
        "trusted": true
      },
      "cell_type": "code",
      "source": "Y",
      "execution_count": 19,
      "outputs": [
        {
          "output_type": "execute_result",
          "execution_count": 19,
          "data": {
            "text/plain": "array([0, 0, 0, 0, 0, 0, 0, 0, 0, 0, 0, 0, 0, 0, 0, 0, 0, 0, 0, 0, 0, 0,\n       0, 0, 0, 0, 0, 0, 0, 0, 0, 0, 0, 0, 0, 0, 0, 0, 0, 0, 0, 0, 0, 0,\n       0, 0, 0, 0, 0, 0, 1, 1, 1, 1, 1, 1, 1, 1, 1, 1, 1, 1, 1, 1, 1, 1,\n       1, 1, 1, 1, 1, 1, 1, 1, 1, 1, 1, 1, 1, 1, 1, 1, 1, 1, 1, 1, 1, 1,\n       1, 1, 1, 1, 1, 1, 1, 1, 1, 1, 1, 1, 2, 2, 2, 2, 2, 2, 2, 2, 2, 2,\n       2, 2, 2, 2, 2, 2, 2, 2, 2, 2, 2, 2, 2, 2, 2, 2, 2, 2, 2, 2, 2, 2,\n       2, 2, 2, 2, 2, 2, 2, 2, 2, 2, 2, 2, 2, 2, 2, 2, 2, 2])"
          },
          "metadata": {}
        }
      ]
    },
    {
      "metadata": {
        "trusted": true
      },
      "cell_type": "code",
      "source": "indices = np.arange(0,149,1)\nperm_index = np.random.permutation(indices)",
      "execution_count": 20,
      "outputs": []
    },
    {
      "metadata": {
        "trusted": true
      },
      "cell_type": "code",
      "source": "X_train, Y_train = X[perm_index[0:train_len]], Y[perm_index[0:train_len]]\nX_test, Y_test = X[perm_index[train_len:]], Y[perm_index[train_len:]]",
      "execution_count": 21,
      "outputs": []
    },
    {
      "metadata": {
        "trusted": true
      },
      "cell_type": "code",
      "source": "Y_train",
      "execution_count": 24,
      "outputs": [
        {
          "output_type": "execute_result",
          "execution_count": 24,
          "data": {
            "text/plain": "array([1, 2, 1, 2, 1, 1, 0, 0, 2, 2, 1, 1, 2, 1, 2, 1, 1, 0, 1, 0, 2, 0,\n       0, 1, 0, 2, 1, 2, 1, 1, 2, 0, 0, 2, 1, 0, 2, 2, 1, 2, 2, 2, 0, 0,\n       2, 0, 1, 1, 1, 1, 0, 0, 2, 2, 2, 1, 2, 0, 0, 2, 1, 1, 1, 1, 2, 1,\n       0, 2, 2, 2, 2, 1, 2, 1, 0, 0, 2, 2, 0, 1, 0, 0, 2, 0, 1, 0, 1, 0,\n       0, 1, 0, 0, 0, 1, 0, 2, 2, 0, 2, 0, 2, 1, 0, 0, 1])"
          },
          "metadata": {}
        }
      ]
    },
    {
      "metadata": {
        "trusted": true
      },
      "cell_type": "code",
      "source": "model = KNeighborsClassifier(n_neighbors=3)\nmodel.fit(X_train, Y_train)\npreds = model.predict(X_test)\nprint(accuracy_score(y_pred=preds, y_true=Y_test))",
      "execution_count": 25,
      "outputs": [
        {
          "output_type": "stream",
          "text": "0.9545454545454546\n",
          "name": "stdout"
        }
      ]
    },
    {
      "metadata": {
        "trusted": true
      },
      "cell_type": "code",
      "source": "sum_accuracy = 0\n\nfor i in range(10):\n    indices = np.arange(0,149,1)\n    perm_index = np.random.permutation(indices)\n    X_train, Y_train = X[perm_index[0:train_len]], Y[perm_index[0:train_len]]\n    X_test, Y_test = X[perm_index[train_len:]], Y[perm_index[train_len:]]\n    model = KNeighborsClassifier(n_neighbors=3)\n    model.fit(X_train, Y_train)\n    preds = model.predict(X_test)\n    sum_accuracy += accuracy_score(y_pred=preds, y_true=Y_test)\n\nprint(sum_accuracy / 10)",
      "execution_count": 26,
      "outputs": [
        {
          "output_type": "stream",
          "text": "0.9704545454545455\n",
          "name": "stdout"
        }
      ]
    },
    {
      "metadata": {
        "trusted": true
      },
      "cell_type": "code",
      "source": "from sklearn.model_selection import KFold",
      "execution_count": 27,
      "outputs": []
    },
    {
      "metadata": {
        "trusted": true
      },
      "cell_type": "code",
      "source": "kfolds = KFold(n_splits=20)\nkfolds.get_n_splits(X)\n\nsum_accuracy = 0\n\nfor train_index, test_index in kfolds.split(X):\n    #print(\"TRAIN:\", train_index, \"TEST:\", test_index)\n    X_train, X_test = X[train_index], X[test_index]\n    Y_train, Y_test = Y[train_index], Y[test_index]\n    \n    model = KNeighborsClassifier(n_neighbors=3)\n    model.fit(X_train, Y_train)\n    preds = model.predict(X_test)\n    sum_accuracy += accuracy_score(y_pred=preds, y_true=Y_test)\n\nprint(sum_accuracy / 20)",
      "execution_count": 28,
      "outputs": [
        {
          "output_type": "stream",
          "text": "0.9589285714285716\n",
          "name": "stdout"
        }
      ]
    },
    {
      "metadata": {
        "trusted": true
      },
      "cell_type": "code",
      "source": "??KFold",
      "execution_count": 71,
      "outputs": []
    },
    {
      "metadata": {
        "trusted": true
      },
      "cell_type": "code",
      "source": "from sklearn.metrics import confusion_matrix\n\nmodel = KNeighborsClassifier(n_neighbors=3)\nmodel.fit(X, Y)\npreds = model.predict(X)\n#print(accuracy_score(preds, Y_test))\nprint(confusion_matrix(y_pred=preds, y_true=Y))",
      "execution_count": 31,
      "outputs": [
        {
          "output_type": "stream",
          "text": "[[50  0  0]\n [ 0 47  3]\n [ 0  3 47]]\n",
          "name": "stdout"
        }
      ]
    },
    {
      "metadata": {
        "trusted": true
      },
      "cell_type": "code",
      "source": "",
      "execution_count": null,
      "outputs": []
    }
  ],
  "metadata": {
    "kernelspec": {
      "name": "python2",
      "display_name": "Python 2",
      "language": "python"
    },
    "language_info": {
      "mimetype": "text/x-python",
      "nbconvert_exporter": "python",
      "name": "python",
      "pygments_lexer": "ipython2",
      "version": "2.7.15",
      "file_extension": ".py",
      "codemirror_mode": {
        "version": 2,
        "name": "ipython"
      }
    }
  },
  "nbformat": 4,
  "nbformat_minor": 2
}
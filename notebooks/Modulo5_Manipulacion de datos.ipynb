{
 "cells": [
  {
   "cell_type": "markdown",
   "metadata": {},
   "source": [
    "<img src=\"http://www.redttu.edu.co/es/wp-content/uploads/2016/01/itm.png\" alt=\"drawing\" width=\"400\"/>\n",
    "\n",
    "<hr>\n",
    "\n",
    "Pedro Atencio - 2019"
   ]
  },
  {
   "cell_type": "markdown",
   "metadata": {},
   "source": [
    "__Agenda__:\n",
    "\n",
    "- Numpy\n",
    "    - Inicializacion de arreglos y acceso.\n",
    "        - Shape.\n",
    "        - Zeros, Ones, linspace, arange.\n",
    "    - Slicing.\n",
    "    - Funciones básicas y axis.\n",
    "        - sum, mean, std, linalg.norm, random.\n",
    "        - hsplit, vsplit.\n",
    "        - python math vs numpy.\n",
    "            - Ejemplo: funcion sigmoide.\n",
    "    - Funciones de la clase nd-array (built-in) vs funciones de numpy.\n",
    "    - Vectorization / Broadcasting\n",
    "        - sumatorias y multiplicación de vectores.\n",
    "        - Ejemplo: distancia euclidea.\n",
    "        \n",
    "- IO en Archivos\n",
    "    - Python File\n",
    "    - Pickle"
   ]
  },
  {
   "cell_type": "markdown",
   "metadata": {},
   "source": [
    " <hr>\n",
    " # 1. Inicializacion de arreglos y acceso."
   ]
  },
  {
   "cell_type": "code",
   "execution_count": 18,
   "metadata": {},
   "outputs": [],
   "source": [
    "import numpy\n",
    "import numpy as np"
   ]
  },
  {
   "cell_type": "code",
   "execution_count": 19,
   "metadata": {},
   "outputs": [
    {
     "name": "stdout",
     "output_type": "stream",
     "text": [
      "('Tamanio del arreglo: ', (1, 3))\n",
      "('Tipo de dato (clase) del arreglo: ', <type 'numpy.ndarray'>)\n",
      "('Num fils: ', 1)\n",
      "('Num cols: ', 3)\n"
     ]
    }
   ],
   "source": [
    "#A = np.array([[1],[2],[3]]) #creamos un arreglo manualmente.\n",
    "A = np.array([[1,2,3]])\n",
    "print(\"Tamanio del arreglo: \",A.shape) #imprimimos su tamanio\n",
    "print(\"Tipo de dato (clase) del arreglo: \", type(A))\n",
    "print(\"Num fils: \", A.shape[0])\n",
    "print(\"Num cols: \", A.shape[1])"
   ]
  },
  {
   "cell_type": "markdown",
   "metadata": {},
   "source": [
    "<a href=\"https://docs.scipy.org/doc/numpy/reference/arrays.ndarray.html\">Consultar Numpy nd-array.</a>"
   ]
  },
  {
   "cell_type": "code",
   "execution_count": 20,
   "metadata": {
    "scrolled": true
   },
   "outputs": [
    {
     "name": "stdout",
     "output_type": "stream",
     "text": [
      "('Arreglo: ', array([[1., 1., 1.],\n",
      "       [1., 1., 1.],\n",
      "       [1., 1., 1.]]))\n",
      "('Size: ', (3, 3))\n"
     ]
    }
   ],
   "source": [
    "#A = np.zeros([3,3]) #creamos un arreglo lleno de ceros o unos de tamanio 3x4\n",
    "A = np.ones([3,3])\n",
    "print(\"Arreglo: \", A)\n",
    "print(\"Size: \", A.shape)"
   ]
  },
  {
   "cell_type": "markdown",
   "metadata": {},
   "source": [
    "<hr>\n",
    "Una forma útil de generar arreglos consiste en la utilización de las funciones __arange__ y __linspace__, las cuales permiten generar arreglos secuenciales en un rango de valores.\n",
    "\n",
    "- __arange__: Permite crear arreglos de secuencias numéricas, indicando: _<inicio, fin, paso>_.\n",
    "- __linspace__: Permite crear arreglos de secuencias numéricas, indicando: _<inicio, fin, número de muestras>_."
   ]
  },
  {
   "cell_type": "code",
   "execution_count": 21,
   "metadata": {},
   "outputs": [],
   "source": [
    "A = np.arange(-10, 10.01, 0.5)"
   ]
  },
  {
   "cell_type": "code",
   "execution_count": 22,
   "metadata": {},
   "outputs": [
    {
     "name": "stdout",
     "output_type": "stream",
     "text": [
      "('Arreglo: ', array([-10. ,  -9.5,  -9. ,  -8.5,  -8. ,  -7.5,  -7. ,  -6.5,  -6. ,\n",
      "        -5.5,  -5. ,  -4.5,  -4. ,  -3.5,  -3. ,  -2.5,  -2. ,  -1.5,\n",
      "        -1. ,  -0.5,   0. ,   0.5,   1. ,   1.5,   2. ,   2.5,   3. ,\n",
      "         3.5,   4. ,   4.5,   5. ,   5.5,   6. ,   6.5,   7. ,   7.5,\n",
      "         8. ,   8.5,   9. ,   9.5,  10. ]))\n",
      "('Forma: ', (41,))\n"
     ]
    }
   ],
   "source": [
    "print(\"Arreglo: \", A)\n",
    "print(\"Forma: \", A.shape)"
   ]
  },
  {
   "cell_type": "code",
   "execution_count": 23,
   "metadata": {},
   "outputs": [
    {
     "name": "stdout",
     "output_type": "stream",
     "text": [
      "('Arreglo: ', array([-10.        ,  -8.94736842,  -7.89473684,  -6.84210526,\n",
      "        -5.78947368,  -4.73684211,  -3.68421053,  -2.63157895,\n",
      "        -1.57894737,  -0.52631579,   0.52631579,   1.57894737,\n",
      "         2.63157895,   3.68421053,   4.73684211,   5.78947368,\n",
      "         6.84210526,   7.89473684,   8.94736842,  10.        ]))\n",
      "('Forma: ', (20,))\n"
     ]
    }
   ],
   "source": [
    "A = np.linspace(-10,10,20)\n",
    "print(\"Arreglo: \", A)\n",
    "print(\"Forma: \", A.shape)"
   ]
  },
  {
   "cell_type": "markdown",
   "metadata": {},
   "source": [
    "<hr>\n",
    "\n",
    "Generar arreglos de valores aleatorios también es posible utilizando numpy.random.rand(dim1, dim2,..., dimn)"
   ]
  },
  {
   "cell_type": "code",
   "execution_count": 24,
   "metadata": {},
   "outputs": [
    {
     "name": "stdout",
     "output_type": "stream",
     "text": [
      "[[0.12751314 0.8422703  0.80843092 0.35927933 0.77387465 0.20313525]\n",
      " [0.15333215 0.19468453 0.08703844 0.29664499 0.66257462 0.67181021]\n",
      " [0.12147997 0.08005936 0.20954525 0.65394447 0.7571194  0.27230611]\n",
      " [0.29460695 0.71679601 0.1189266  0.93842446 0.00496734 0.3505741 ]\n",
      " [0.39097807 0.16964002 0.5527064  0.48696103 0.10576842 0.16122987]]\n"
     ]
    }
   ],
   "source": [
    "A = np.random.rand(5,6)\n",
    "print(A)"
   ]
  },
  {
   "cell_type": "markdown",
   "metadata": {},
   "source": [
    "## Analicemos\n",
    "\n",
    "La definición formal de un número aleatorio en un rango es: $(b-a)*rand + a$. Utilicemos esta definición para crear una matriz aleatoria entre 5 y 15."
   ]
  },
  {
   "cell_type": "code",
   "execution_count": 25,
   "metadata": {},
   "outputs": [
    {
     "name": "stdout",
     "output_type": "stream",
     "text": [
      "[[14.23337781 12.1532429  10.89628467 12.97526944 10.3290931 ]\n",
      " [14.53706887  5.23302582  8.37670605 11.27114357  8.06861912]\n",
      " [12.35636038 10.88718675 13.04059919  6.84060349 10.32002703]\n",
      " [ 5.23145622 13.56832444 13.83676365 11.99101904  9.03282235]\n",
      " [ 9.24638491  8.65182163  8.710937   11.17886723 12.9323172 ]]\n"
     ]
    }
   ],
   "source": [
    "import math\n",
    "import random\n",
    "\n",
    "M = np.zeros([5,5])\n",
    "\n",
    "a = 5\n",
    "b = 15\n",
    "\n",
    "for i in range(5):\n",
    "    for j in range(5):\n",
    "        M[i,j] = (b-a)*random.random()+a\n",
    "print(M)"
   ]
  },
  {
   "cell_type": "code",
   "execution_count": 26,
   "metadata": {},
   "outputs": [
    {
     "name": "stdout",
     "output_type": "stream",
     "text": [
      "[[ 5.77096436 13.91769413 10.33845928 14.61332149  8.30903765]\n",
      " [11.23191852  5.43471973  9.93112856 13.69737927 12.55009046]\n",
      " [13.71957037  8.27084362  7.1717084  13.91381012 10.89237137]\n",
      " [ 6.9235194   9.22663639  7.42928777  7.22286803 14.27342018]\n",
      " [ 5.4229135  12.49560257 10.79078756  5.77254409 11.79634107]]\n"
     ]
    }
   ],
   "source": [
    "M = (b-a)*np.random.rand(5,5)+a\n",
    "\n",
    "print(M)"
   ]
  },
  {
   "cell_type": "markdown",
   "metadata": {},
   "source": [
    "<hr>\n",
    "\n",
    "# 2. Slicing\n",
    "\n",
    "Como slicing se conoce a la posibilidad de obtener porciones de un arreglo utilizando notación de índices."
   ]
  },
  {
   "cell_type": "code",
   "execution_count": 27,
   "metadata": {},
   "outputs": [
    {
     "name": "stdout",
     "output_type": "stream",
     "text": [
      "[[0.65866292 0.19796741 0.67642709 0.69600304 0.04526969 0.73263968]\n",
      " [0.96100788 0.80081331 0.36757175 0.0111399  0.15482569 0.1084892 ]\n",
      " [0.25050072 0.2995774  0.85617097 0.82830304 0.40730334 0.04267435]\n",
      " [0.87894438 0.03644443 0.96677506 0.6868298  0.07301547 0.28069228]\n",
      " [0.61296327 0.64733675 0.93795185 0.05141968 0.5462475  0.81333887]]\n"
     ]
    }
   ],
   "source": [
    "A = np.random.rand(5,6)\n",
    "print(A)"
   ]
  },
  {
   "cell_type": "code",
   "execution_count": 28,
   "metadata": {},
   "outputs": [
    {
     "name": "stdout",
     "output_type": "stream",
     "text": [
      "('Primera fila del arreglo: ', array([0.65866292, 0.19796741, 0.67642709, 0.69600304, 0.04526969,\n",
      "       0.73263968]))\n",
      "('Primera columna del arreglo: ', array([0.65866292, 0.96100788, 0.25050072, 0.87894438, 0.61296327]))\n",
      "('Arreglo de 3x3 desde la fila 1 a la fila 3 y desde la columna 1 a la columna 3', array([[0.80081331, 0.36757175, 0.0111399 ],\n",
      "       [0.2995774 , 0.85617097, 0.82830304],\n",
      "       [0.03644443, 0.96677506, 0.6868298 ]]))\n"
     ]
    }
   ],
   "source": [
    "R1 = A[0,:]\n",
    "R2 = A[:,0]\n",
    "R3 = A[1:4, 1:4]\n",
    "\n",
    "print(\"Primera fila del arreglo: \", R1)\n",
    "print(\"Primera columna del arreglo: \", R2)\n",
    "print(\"Arreglo de 3x3 desde la fila 1 a la fila 3 y desde la columna 1 a la columna 3\", R3)"
   ]
  },
  {
   "cell_type": "code",
   "execution_count": 29,
   "metadata": {},
   "outputs": [
    {
     "name": "stdout",
     "output_type": "stream",
     "text": [
      "[array([[0.65866292],\n",
      "       [0.96100788],\n",
      "       [0.25050072],\n",
      "       [0.87894438],\n",
      "       [0.61296327]]), array([[0.19796741],\n",
      "       [0.80081331],\n",
      "       [0.2995774 ],\n",
      "       [0.03644443],\n",
      "       [0.64733675]]), array([[0.67642709],\n",
      "       [0.36757175],\n",
      "       [0.85617097],\n",
      "       [0.96677506],\n",
      "       [0.93795185]]), array([[0.69600304],\n",
      "       [0.0111399 ],\n",
      "       [0.82830304],\n",
      "       [0.6868298 ],\n",
      "       [0.05141968]]), array([[0.04526969],\n",
      "       [0.15482569],\n",
      "       [0.40730334],\n",
      "       [0.07301547],\n",
      "       [0.5462475 ]]), array([[0.73263968],\n",
      "       [0.1084892 ],\n",
      "       [0.04267435],\n",
      "       [0.28069228],\n",
      "       [0.81333887]])]\n",
      "[array([[0.65866292, 0.19796741, 0.67642709, 0.69600304, 0.04526969,\n",
      "        0.73263968]]), array([[0.96100788, 0.80081331, 0.36757175, 0.0111399 , 0.15482569,\n",
      "        0.1084892 ]]), array([[0.25050072, 0.2995774 , 0.85617097, 0.82830304, 0.40730334,\n",
      "        0.04267435]]), array([[0.87894438, 0.03644443, 0.96677506, 0.6868298 , 0.07301547,\n",
      "        0.28069228]]), array([[0.61296327, 0.64733675, 0.93795185, 0.05141968, 0.5462475 ,\n",
      "        0.81333887]])]\n"
     ]
    }
   ],
   "source": [
    "RH = np.hsplit(A, 6)\n",
    "print(RH)\n",
    "\n",
    "RV = np.vsplit(A, 5)\n",
    "print(RV)"
   ]
  },
  {
   "cell_type": "markdown",
   "metadata": {},
   "source": [
    "<hr>\n",
    "\n",
    "# 3. Funciones básicas y axis\n",
    "\n",
    "La mayoría de operaciones útiles al trabajar con arreglos n-dimensionales están implementadas en la libreía Numpy, por ejemplo: sum, std, transpose, power, entre otras.\n",
    "\n",
    "Analicemos el siguiente ejemplo de una sumatoria."
   ]
  },
  {
   "cell_type": "code",
   "execution_count": 30,
   "metadata": {},
   "outputs": [
    {
     "name": "stdout",
     "output_type": "stream",
     "text": [
      "[[0.22373769 0.87365329 0.11495223 0.11426213 0.75049033]\n",
      " [0.02198645 0.21048954 0.64955674 0.97918808 0.07203939]\n",
      " [0.80449487 0.00311095 0.85880313 0.73550478 0.43397618]]\n"
     ]
    }
   ],
   "source": [
    "A = np.random.rand(3,5)\n",
    "print(A)"
   ]
  },
  {
   "cell_type": "code",
   "execution_count": 31,
   "metadata": {},
   "outputs": [
    {
     "name": "stdout",
     "output_type": "stream",
     "text": [
      "[1.2123432  0.88203272 1.66640895]\n"
     ]
    }
   ],
   "source": [
    "suma = 0\n",
    "\n",
    "for i in range(A.shape[0]):\n",
    "    suma += A[:,i]\n",
    "\n",
    "print(suma)"
   ]
  },
  {
   "cell_type": "markdown",
   "metadata": {},
   "source": [
    "También podemos utilizar la función sum para lograr el mismo objetivo."
   ]
  },
  {
   "cell_type": "code",
   "execution_count": 32,
   "metadata": {},
   "outputs": [
    {
     "data": {
      "text/plain": [
       "array([2.07709566, 1.93326019, 2.83588991])"
      ]
     },
     "execution_count": 32,
     "metadata": {},
     "output_type": "execute_result"
    }
   ],
   "source": [
    "np.sum(A, axis=1)"
   ]
  },
  {
   "cell_type": "markdown",
   "metadata": {},
   "source": [
    "La mayoría de funciones que operan arreglos n-dimensionales, cuentan con un parámetro __axis__ que especifica la dimensión sobre la cuál se realiza la operación.\n",
    "\n",
    "Analicemos el siguiente ejemplo:"
   ]
  },
  {
   "cell_type": "code",
   "execution_count": 33,
   "metadata": {},
   "outputs": [
    {
     "name": "stdout",
     "output_type": "stream",
     "text": [
      "[[4.92395412 1.23333609 5.9469623  4.91790153 4.78331022]\n",
      " [3.97301339 2.84183771 6.5734387  3.69689206 3.40144548]\n",
      " [6.59020449 5.76227885 2.21121951 5.62220309 2.65995879]\n",
      " [8.06801633 8.68577763 5.44813154 8.61905337 1.71680929]]\n"
     ]
    }
   ],
   "source": [
    "np.random.seed(2) #fijemos la semilla aleatoria para obtener el mismo resultado\n",
    "\n",
    "a = 1\n",
    "b = 10\n",
    "M = (b-a)*np.random.rand(4,5)+a #Generemos un arreglo numerico aleatorio de dimension 4x5, entre 1 y 10\n",
    "print(M)"
   ]
  },
  {
   "cell_type": "markdown",
   "metadata": {},
   "source": [
    "Sumemos las filas de la matriz anterior, utilizando el parámetro axis de la función sum:"
   ]
  },
  {
   "cell_type": "code",
   "execution_count": 34,
   "metadata": {},
   "outputs": [
    {
     "data": {
      "text/plain": [
       "array([21.80546426, 20.48662733, 22.84586473, 32.53778816])"
      ]
     },
     "execution_count": 34,
     "metadata": {},
     "output_type": "execute_result"
    }
   ],
   "source": [
    "np.sum(M, axis=1)"
   ]
  },
  {
   "cell_type": "markdown",
   "metadata": {},
   "source": [
    "Sumemos las columnas de la matriz anterior, utilizando el parámetro axis de la función sum:"
   ]
  },
  {
   "cell_type": "code",
   "execution_count": 35,
   "metadata": {},
   "outputs": [
    {
     "data": {
      "text/plain": [
       "array([23.55518833, 18.52323028, 20.17975204, 22.85605006, 12.56152378])"
      ]
     },
     "execution_count": 35,
     "metadata": {},
     "output_type": "execute_result"
    }
   ],
   "source": [
    "np.sum(M, axis=0)"
   ]
  },
  {
   "cell_type": "markdown",
   "metadata": {},
   "source": [
    "<hr>\n",
    "\n",
    "## Analicemos\n",
    "\n",
    "1. A que se refiere el parámetro axis?\n",
    "2. Si tengo un arreglo A de dimension MxNxL y aplico np.sum(A, axis=1), ¿de qué dimensión es el arreglo resultante?"
   ]
  },
  {
   "cell_type": "code",
   "execution_count": 36,
   "metadata": {},
   "outputs": [
    {
     "name": "stdout",
     "output_type": "stream",
     "text": [
      "(3, 4, 7)\n"
     ]
    }
   ],
   "source": [
    "K = np.random.rand(3,4,6,7)\n",
    "R = np.sum(K, axis=2)\n",
    "print(R.shape)"
   ]
  },
  {
   "cell_type": "markdown",
   "metadata": {},
   "source": [
    "<hr>\n",
    "\n",
    "# 4. Funciones vectorizadas\n",
    "\n",
    "Numpy contiene las versiones vectorizadas de las funciones de la librería math, por ejemplo: \n",
    "- math.sin --> numpy.sin\n",
    "- math.exp --> numpy.exp\n",
    "\n",
    "A diferencia de las funciones de la librería math, las versiones vectorizadas pueden recibir arreglos n-dimensionales como argumentos."
   ]
  },
  {
   "cell_type": "code",
   "execution_count": 37,
   "metadata": {},
   "outputs": [],
   "source": [
    "import math \n",
    "\n",
    "def sigmoid(z):\n",
    "    return 1. / (1. + math.exp(-z))"
   ]
  },
  {
   "cell_type": "code",
   "execution_count": 38,
   "metadata": {},
   "outputs": [],
   "source": [
    "sigmoid_vec = np.vectorize(sigmoid)"
   ]
  },
  {
   "cell_type": "code",
   "execution_count": 39,
   "metadata": {},
   "outputs": [
    {
     "name": "stdout",
     "output_type": "stream",
     "text": [
      "3.72007597602e-44\n"
     ]
    }
   ],
   "source": [
    "z = -100\n",
    "print(sigmoid(z))"
   ]
  },
  {
   "cell_type": "code",
   "execution_count": 40,
   "metadata": {},
   "outputs": [],
   "source": [
    "z = np.linspace(-10,10,100)\n",
    "y = sigmoid_vec(z)"
   ]
  },
  {
   "cell_type": "code",
   "execution_count": 41,
   "metadata": {},
   "outputs": [
    {
     "data": {
      "text/plain": [
       "<Figure size 640x480 with 1 Axes>"
      ]
     },
     "metadata": {},
     "output_type": "display_data"
    }
   ],
   "source": [
    "import matplotlib.pyplot as plt\n",
    "\n",
    "plt.plot(z,y)\n",
    "plt.show()"
   ]
  },
  {
   "cell_type": "markdown",
   "metadata": {},
   "source": [
    "<hr>\n",
    "\n",
    "## Trabajemos\n",
    "\n",
    "Vectoricemos la función sigmoide definida anteriormente. Para ello puede revisar:\n",
    "\n",
    "- numpy.vectorize\n",
    "- numpy.exp"
   ]
  },
  {
   "cell_type": "markdown",
   "metadata": {},
   "source": [
    "<hr>\n",
    "\n",
    "# 4.1. Vectorización y Broadcasting"
   ]
  },
  {
   "cell_type": "code",
   "execution_count": 42,
   "metadata": {},
   "outputs": [
    {
     "name": "stdout",
     "output_type": "stream",
     "text": [
      "[0.4359949  0.02592623 0.54966248 ... 0.92851865 0.66632148 0.12215498]\n"
     ]
    }
   ],
   "source": [
    "np.random.seed(2)\n",
    "A = np.random.rand(10000000)\n",
    "B = np.random.rand(10000000)\n",
    "\n",
    "print A"
   ]
  },
  {
   "cell_type": "code",
   "execution_count": 43,
   "metadata": {},
   "outputs": [],
   "source": [
    "import time"
   ]
  },
  {
   "cell_type": "code",
   "execution_count": 44,
   "metadata": {},
   "outputs": [
    {
     "name": "stdout",
     "output_type": "stream",
     "text": [
      "2501003.0002007955\n",
      "('Elapsed time: ', 21827.14796066284)\n"
     ]
    }
   ],
   "source": [
    "tic = time.time()\n",
    "\n",
    "suma = 0\n",
    "\n",
    "for i in range(10000000):\n",
    "    suma += A[i]*B[i]\n",
    "\n",
    "toc = time.time()\n",
    "\n",
    "print(suma)\n",
    "print(\"Elapsed time: \", (toc-tic)*1000)"
   ]
  },
  {
   "cell_type": "code",
   "execution_count": 45,
   "metadata": {},
   "outputs": [
    {
     "name": "stdout",
     "output_type": "stream",
     "text": [
      "2501003.0002009235\n",
      "('Elapsed time: ', 14.338970184326172)\n"
     ]
    }
   ],
   "source": [
    "tic = time.time()\n",
    "\n",
    "suma = np.dot(A,B)\n",
    "print(suma)\n",
    "\n",
    "toc = time.time()\n",
    "\n",
    "print(\"Elapsed time: \", (toc-tic)*1000)"
   ]
  },
  {
   "cell_type": "code",
   "execution_count": 46,
   "metadata": {},
   "outputs": [
    {
     "name": "stdout",
     "output_type": "stream",
     "text": [
      "[[0.4359949  0.02592623 0.54966248]\n",
      " [0.43532239 0.4203678  0.33033482]\n",
      " [0.20464863 0.61927097 0.29965467]\n",
      " [0.26682728 0.62113383 0.52914209]]\n",
      "[[0.13457995]\n",
      " [0.51357812]\n",
      " [0.18443987]\n",
      " [0.78533515]]\n",
      "[[0.57057485 0.16050618 0.68424242]\n",
      " [0.94890051 0.93394592 0.84391294]\n",
      " [0.3890885  0.80371083 0.48409454]\n",
      " [1.05216242 1.40646898 1.31447724]]\n"
     ]
    }
   ],
   "source": [
    "np.random.seed(2)\n",
    "\n",
    "A = np.random.rand(4,3)\n",
    "k = np.random.rand(4,1)\n",
    "\n",
    "print(A)\n",
    "print(k)\n",
    "print(A+k)"
   ]
  },
  {
   "cell_type": "markdown",
   "metadata": {},
   "source": [
    "<hr>\n",
    "\n",
    "# Trabajemos\n",
    "\n",
    "Supongamos dos arreglos A y B de tamaño $m \\times 2$, donde $m$ es un número de puntos y $2$ es la dimensión de los puntos, es decir, 2D para este ejemplo.\n",
    "\n",
    "Vectorizar la distancia Euclídea entre cada punto 2D en A y su correspondiente punto 2D en B. El resultado debe ser un arreglo de dimensión $m$."
   ]
  },
  {
   "cell_type": "code",
   "execution_count": 47,
   "metadata": {},
   "outputs": [],
   "source": [
    "np.random.seed(2)\n",
    "\n",
    "m = 100\n",
    "\n",
    "A = np.random.rand(m, 4)\n",
    "B = np.random.rand(m, 4)"
   ]
  },
  {
   "cell_type": "code",
   "execution_count": 48,
   "metadata": {
    "scrolled": false
   },
   "outputs": [
    {
     "data": {
      "image/png": "[encoded data removed]",
      "text/plain": [
       "<Figure size 432x288 with 1 Axes>"
      ]
     },
     "metadata": {
      "needs_background": "light"
     },
     "output_type": "display_data"
    }
   ],
   "source": [
    "import matplotlib.pyplot as plt\n",
    "\n",
    "plt.plot(A, 'r*')\n",
    "plt.plot(B, 'b*')\n",
    "plt.show()"
   ]
  },
  {
   "cell_type": "code",
   "execution_count": 49,
   "metadata": {},
   "outputs": [
    {
     "data": {
      "text/plain": [
       "array([0.58183114, 0.65014207, 0.91133382, 0.67557112, 1.08997052,\n",
       "       1.21343086, 1.16536852, 0.83124803, 0.65329862, 0.77163624,\n",
       "       0.78751514, 0.38817249, 0.66463221, 0.68062536, 0.72956974,\n",
       "       0.8375279 , 0.78106683, 0.95077998, 0.64407874, 0.79632858,\n",
       "       0.77660859, 0.35085919, 0.84403629, 0.55410579, 0.70544455,\n",
       "       0.7765965 , 0.51352558, 0.60731653, 0.64428623, 0.41366748,\n",
       "       0.69596027, 1.10256593, 0.7236202 , 0.82710401, 1.15203082,\n",
       "       0.67751511, 0.22950285, 0.48426237, 0.97116095, 0.56750996,\n",
       "       0.8829261 , 0.73847001, 0.26062813, 0.78276049, 0.85135436,\n",
       "       0.99863735, 0.76745901, 1.22517345, 0.75671281, 0.67871343,\n",
       "       0.67907385, 0.87165135, 0.63028634, 1.14875574, 0.49532619,\n",
       "       1.20534435, 0.68386168, 0.81451969, 0.61029765, 0.71611809,\n",
       "       0.370141  , 0.97822608, 0.64800398, 0.73884719, 0.52080076,\n",
       "       0.61667502, 0.69217331, 0.89739305, 0.70777541, 0.7984498 ,\n",
       "       0.78429929, 0.38806551, 0.38115622, 0.46757527, 0.84979312,\n",
       "       0.41925814, 0.90641148, 0.60663548, 0.52429963, 0.85022939,\n",
       "       0.58170444, 0.99867757, 0.99327285, 0.85393727, 0.29218448,\n",
       "       1.11122625, 0.68783961, 0.45793562, 1.02696028, 1.34242285,\n",
       "       0.81433572, 0.74379463, 0.48927743, 0.85651582, 0.72038442,\n",
       "       0.89349618, 0.69058088, 0.37472559, 0.36818961, 0.52067971])"
      ]
     },
     "execution_count": 49,
     "metadata": {},
     "output_type": "execute_result"
    }
   ],
   "source": [
    "np.sqrt(np.sum((A-B)**2, axis=1))"
   ]
  },
  {
   "cell_type": "code",
   "execution_count": 50,
   "metadata": {},
   "outputs": [
    {
     "name": "stdout",
     "output_type": "stream",
     "text": [
      "(array([[0.67262239, 0.41474308],\n",
      "       [0.27910008, 0.8927782 ],\n",
      "       [0.64427431, 0.24802813]]), array([[0.76809373, 0.53680903],\n",
      "       [0.41976896, 0.0973909 ],\n",
      "       [0.22216148, 0.10542446]]))\n"
     ]
    }
   ],
   "source": [
    "A = np.random.rand(3, 2)\n",
    "B = np.random.rand(3, 2)\n",
    "\n",
    "print(A,B)"
   ]
  },
  {
   "cell_type": "code",
   "execution_count": 51,
   "metadata": {},
   "outputs": [
    {
     "name": "stdout",
     "output_type": "stream",
     "text": [
      "[[1. 1. 1. 1. 1. 1. 1. 1. 1. 1.]\n",
      " [1. 1. 1. 1. 1. 1. 1. 1. 1. 1.]\n",
      " [1. 1. 1. 1. 1. 1. 1. 1. 1. 1.]]\n",
      "[[ 1  2  3  4  5  6  7  8  9 10]]\n",
      "[[ 2.  3.  4.  5.  6.  7.  8.  9. 10. 11.]\n",
      " [ 2.  3.  4.  5.  6.  7.  8.  9. 10. 11.]\n",
      " [ 2.  3.  4.  5.  6.  7.  8.  9. 10. 11.]]\n"
     ]
    }
   ],
   "source": [
    "import numpy as np\n",
    "np.random.seed(2)\n",
    "A = np.ones([3,10])\n",
    "print(A)\n",
    "\n",
    "B = np.array([[1,2,3,4,5,6,7,8,9,10]])\n",
    "print(B)\n",
    "print(A+B)"
   ]
  },
  {
   "cell_type": "code",
   "execution_count": 52,
   "metadata": {},
   "outputs": [
    {
     "data": {
      "text/plain": [
       "array([16.88194302, 16.88194302, 16.88194302])"
      ]
     },
     "execution_count": 52,
     "metadata": {},
     "output_type": "execute_result"
    }
   ],
   "source": [
    "np.sqrt(np.sum((A-B)**2, axis=1))"
   ]
  },
  {
   "cell_type": "markdown",
   "metadata": {},
   "source": [
    "<hr>\n",
    "\n",
    "# 5. IO en archivos\n",
    "\n",
    "## 5.1. Python Open\n",
    "\n",
    "### Modo lectura\n",
    "f = open(ruta, modo='rb') #Read Binary\n",
    "### Modo escritura\n",
    "f = open(ruta, modo='wb') #Write Binary\n",
    "modo=\"ab\" Append Binary"
   ]
  },
  {
   "cell_type": "code",
   "execution_count": 53,
   "metadata": {},
   "outputs": [],
   "source": [
    "import numpy as np\n",
    "\n",
    "A = np.array([[1,2,3],[4,5.5,6],[7.7,8,9]])\n",
    "\n",
    "f = open(\"mensaje.txt\", \"wb\")\n",
    "\n",
    "for i in range(3):\n",
    "    m = \"\"\n",
    "    for j in range(3):\n",
    "        m += str(A[i,j])+\" \"\n",
    "    \n",
    "    f.write(m+\"\\n\")\n",
    "\n",
    "f.close()"
   ]
  },
  {
   "cell_type": "markdown",
   "metadata": {},
   "source": [
    "<hr>\n",
    "\n",
    "## 5.2. Librería Pickle"
   ]
  },
  {
   "cell_type": "code",
   "execution_count": 67,
   "metadata": {},
   "outputs": [],
   "source": [
    "import pickle\n",
    "import pickle as pk"
   ]
  },
  {
   "cell_type": "code",
   "execution_count": 68,
   "metadata": {},
   "outputs": [],
   "source": [
    "A = np.array([[1,2,3],[4,5.5,6],[7.7,8,9]])\n",
    "\n",
    "f = open(\"datos.pk\", \"wb\")\n",
    "pickle.dump([A, \"Hola Mundo\", 3.1416], f)\n",
    "f.close()"
   ]
  },
  {
   "cell_type": "code",
   "execution_count": 69,
   "metadata": {},
   "outputs": [],
   "source": [
    "f = open(\"datos.pk\", \"rb\")\n",
    "A_2 = pickle.load(f)\n",
    "f.close()"
   ]
  },
  {
   "cell_type": "code",
   "execution_count": 70,
   "metadata": {},
   "outputs": [
    {
     "name": "stdout",
     "output_type": "stream",
     "text": [
      "[array([[1. , 2. , 3. ],\n",
      "       [4. , 5.5, 6. ],\n",
      "       [7.7, 8. , 9. ]]), 'Hola Mundo', 3.1416]\n"
     ]
    }
   ],
   "source": [
    "print(A_2)"
   ]
  },
  {
   "cell_type": "markdown",
   "metadata": {},
   "source": [
    "## Trabajemos\n",
    "\n",
    "### Ejercicio 1\n",
    "_\"Plot exact and inexact Fahrenheit-Celsius conversion formulas. A simple rule to quickly compute the Celsius temperature from the Fahrenheit degrees is to subtract 30 and then divide by 2: . Compare this curve against the exact curve  in a plot. Let F vary between −20 and 120.”_  Fragmento de: Hans Petter Langtangen. “A Primer on Scientific Programming with Python”. Apple Books. \n",
    "\n",
    "Formula inexacta: $C = \\frac{F-30}{2}$\n",
    "<br>\n",
    "Formula exacta: $C = (F-32)*\\frac{5}{9}$\n",
    "\n",
    "1. Utilizando nd-arrays, compute los resultados de las formulas anteriores.\n",
    "2. Almacene los resultados tabulados en un archivo txt.\n",
    "3. Utilice la libreria pickle para almacenar los arreglos en un archivo .pk\n",
    "4. Grafique ambas curvas utilizando pyplot.plot(x,y, 'codigo de color')"
   ]
  },
  {
   "cell_type": "code",
   "execution_count": 1,
   "metadata": {},
   "outputs": [],
   "source": [
    "import numpy as np\n",
    "\n",
    "F = np.linspace(-20, 120, 100)\n",
    "C1 = (F - 30.) / 2.\n",
    "C2 = (F - 32.)*(5./9.)"
   ]
  },
  {
   "cell_type": "code",
   "execution_count": 6,
   "metadata": {},
   "outputs": [
    {
     "data": {
      "text/plain": [
       "-25.0"
      ]
     },
     "execution_count": 6,
     "metadata": {},
     "output_type": "execute_result"
    }
   ],
   "source": [
    "np.max(C1)\n",
    "np.min(C1)"
   ]
  },
  {
   "cell_type": "code",
   "execution_count": 17,
   "metadata": {},
   "outputs": [
    {
     "data": {
      "image/png": "[encoded data removed]",
      "text/plain": [
       "<Figure size 720x360 with 1 Axes>"
      ]
     },
     "metadata": {
      "needs_background": "light"
     },
     "output_type": "display_data"
    }
   ],
   "source": [
    "import matplotlib.pyplot as plt\n",
    "\n",
    "plt.figure(figsize=(10,5))\n",
    "plt.title(\"Conversion de Fahr a Celsius\")\n",
    "\n",
    "plt.xticks(np.arange(np.min(F)-1, np.max(F)+1, 5))\n",
    "plt.yticks(np.arange(np.min(C1)-1, np.max(C2)+1, 5))\n",
    "plt.grid()\n",
    "\n",
    "plt.xlabel(r'$F^{\\circ}$', fontsize=15)\n",
    "plt.ylabel(r'$C^{\\circ}$',fontsize=15)\n",
    "\n",
    "plt.plot(F, C1, 'r--')\n",
    "plt.plot(F, C2, 'b')\n",
    "\n",
    "plt.legend([r'$C = \\frac{F-30}{2}$', r'$C = (F-32)*\\frac{5}{9}$'], loc='best')\n",
    "\n",
    "\n",
    "plt.show()"
   ]
  },
  {
   "cell_type": "code",
   "execution_count": 73,
   "metadata": {},
   "outputs": [],
   "source": [
    "#Guardamos los datos utilizando pickle.dump\n",
    "\n",
    "f = open(\"conversion.pk\",\"wb\")\n",
    "pk.dump({\"Far\":F, \"exacta\":C2, \"inexacto\":C1}, f)\n",
    "f.close()"
   ]
  },
  {
   "cell_type": "code",
   "execution_count": 80,
   "metadata": {},
   "outputs": [],
   "source": [
    "#Cargamos los datos en disco utiliando pickle.load\n",
    "f = open(\"conversion.pk\", \"rb\")\n",
    "datos = pk.load(f)\n",
    "f.close()"
   ]
  },
  {
   "cell_type": "code",
   "execution_count": 82,
   "metadata": {},
   "outputs": [
    {
     "name": "stdout",
     "output_type": "stream",
     "text": [
      "['Far', 'inexacto', 'exacta']\n",
      "('Valores farenheit recuperados de disco: ', array([-20.        , -18.58585859, -17.17171717, -15.75757576,\n",
      "       -14.34343434, -12.92929293, -11.51515152, -10.1010101 ,\n",
      "        -8.68686869,  -7.27272727,  -5.85858586,  -4.44444444,\n",
      "        -3.03030303,  -1.61616162,  -0.2020202 ,   1.21212121,\n",
      "         2.62626263,   4.04040404,   5.45454545,   6.86868687,\n",
      "         8.28282828,   9.6969697 ,  11.11111111,  12.52525253,\n",
      "        13.93939394,  15.35353535,  16.76767677,  18.18181818,\n",
      "        19.5959596 ,  21.01010101,  22.42424242,  23.83838384,\n",
      "        25.25252525,  26.66666667,  28.08080808,  29.49494949,\n",
      "        30.90909091,  32.32323232,  33.73737374,  35.15151515,\n",
      "        36.56565657,  37.97979798,  39.39393939,  40.80808081,\n",
      "        42.22222222,  43.63636364,  45.05050505,  46.46464646,\n",
      "        47.87878788,  49.29292929,  50.70707071,  52.12121212,\n",
      "        53.53535354,  54.94949495,  56.36363636,  57.77777778,\n",
      "        59.19191919,  60.60606061,  62.02020202,  63.43434343,\n",
      "        64.84848485,  66.26262626,  67.67676768,  69.09090909,\n",
      "        70.50505051,  71.91919192,  73.33333333,  74.74747475,\n",
      "        76.16161616,  77.57575758,  78.98989899,  80.4040404 ,\n",
      "        81.81818182,  83.23232323,  84.64646465,  86.06060606,\n",
      "        87.47474747,  88.88888889,  90.3030303 ,  91.71717172,\n",
      "        93.13131313,  94.54545455,  95.95959596,  97.37373737,\n",
      "        98.78787879, 100.2020202 , 101.61616162, 103.03030303,\n",
      "       104.44444444, 105.85858586, 107.27272727, 108.68686869,\n",
      "       110.1010101 , 111.51515152, 112.92929293, 114.34343434,\n",
      "       115.75757576, 117.17171717, 118.58585859, 120.        ]))\n"
     ]
    }
   ],
   "source": [
    "print(datos.keys())\n",
    "\n",
    "print(\"Valores farenheit recuperados de disco: \",datos['Far'])"
   ]
  },
  {
   "cell_type": "markdown",
   "metadata": {},
   "source": [
    "### Ejercicio 2\n",
    "\n",
    "“The file xy.dat contains two columns of numbers, corresponding to x and y coordinates on a curve. The start of the file looks as this:\n",
    "\n",
    "Make a program that reads the first column into a list x and the second column into a list y. Plot the curve. Print out the mean y value as well as the maximum and minimum y values.\n",
    "Hint.\n",
    "Read the file line by line, split each line into words, convert to float, and append to x and y. The computations with y are simpler if the list is converted to an array.”\n",
    "\n",
    "Fragmento de: Hans Petter Langtangen. “A Primer on Scientific Programming with Python”. Apple Books. "
   ]
  },
  {
   "cell_type": "code",
   "execution_count": 76,
   "metadata": {},
   "outputs": [],
   "source": [
    "f = open(\"xy.dat\", \"rb\")\n",
    "\n",
    "listax = []\n",
    "listay = []\n",
    "\n",
    "for linea in f: #por cada registro separado por \\n (enter)\n",
    "    datos = linea.split()\n",
    "    listax.append(float(datos[0]))\n",
    "    listay.append(float(datos[1]))\n",
    "\n",
    "f.close()"
   ]
  },
  {
   "cell_type": "code",
   "execution_count": 77,
   "metadata": {},
   "outputs": [],
   "source": [
    "#Transformamos las listas a arrays de numpy\n",
    "x = np.array(listax)\n",
    "y = np.array(listay)"
   ]
  },
  {
   "cell_type": "code",
   "execution_count": 78,
   "metadata": {},
   "outputs": [
    {
     "data": {
      "image/png": "[encoded data removed]",
      "text/plain": [
       "<Figure size 500x500 with 1 Axes>"
      ]
     },
     "metadata": {
      "needs_background": "light"
     },
     "output_type": "display_data"
    }
   ],
   "source": [
    "import matplotlib.pyplot as plt\n",
    "\n",
    "plt.figure(figsize=(5,5), dpi=100)\n",
    "plt.grid()\n",
    "plt.title(r'$f(x)=\\frac{sin(x)}{x}$')\n",
    "plt.plot(x,y,'r')\n",
    "plt.show()"
   ]
  },
  {
   "cell_type": "markdown",
   "metadata": {},
   "source": [
    "### Ejercicio 3\n",
    "\n",
    "“The formula for the trajectory of a ball is given by $f(x) = tan\\theta - \\frac{1}{2v_0^2}\\frac{gx^2}{cos^2 \\theta}+y_0$ where x is a coordinate along the ground, g is the acceleration of gravity, v 0 is the size of the initial velocity, which makes an angle θ with the x axis, and  is the initial position of the ball. In a program, first read the input data $y_0, \\theta$, and $v_0$ and plot the trajectory $y = f(x)$ for $y >= 0$ ”\n",
    "\n",
    "Fragmento de: Hans Petter Langtangen. “A Primer on Scientific Programming with Python”. Apple Books. "
   ]
  },
  {
   "cell_type": "code",
   "execution_count": null,
   "metadata": {},
   "outputs": [],
   "source": []
  }
 ],
 "metadata": {
  "kernelspec": {
   "display_name": "Python 3",
   "language": "python",
   "name": "python3"
  },
  "language_info": {
   "codemirror_mode": {
    "name": "ipython",
    "version": 3
   },
   "file_extension": ".py",
   "mimetype": "text/x-python",
   "name": "python",
   "nbconvert_exporter": "python",
   "pygments_lexer": "ipython3",
   "version": "3.6.2"
  }
 },
 "nbformat": 4,
 "nbformat_minor": 1
}

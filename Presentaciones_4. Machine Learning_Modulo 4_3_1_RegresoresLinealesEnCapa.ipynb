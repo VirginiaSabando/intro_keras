{
  "cells": [
    {
      "metadata": {},
      "cell_type": "markdown",
      "source": "<img src=\"res/itm_logo.jpg\" width=\"300px\">\n\n## Inteligencia Artificial - IAI84\n### Instituto Tecnológico Metropolitano\n#### Pedro Atencio Ortiz - 2019\n\nEn este notebook se aborda el tema de aprendizaje de máquina para clasificación binaria no-lineal utilizando Regresores logísticos en cadena:\n1. El problema XOR\n2. Regresores logísticos en cadena"
    },
    {
      "metadata": {},
      "cell_type": "markdown",
      "source": "<hr>\n# 1. El problema XOR\n\n<img src='res/shallow_nn/xor_problem.png'>"
    },
    {
      "metadata": {},
      "cell_type": "markdown",
      "source": " # 1. Regresor Logístico"
    },
    {
      "metadata": {
        "trusted": true
      },
      "cell_type": "code",
      "source": "import numpy as np",
      "execution_count": 1,
      "outputs": []
    },
    {
      "metadata": {
        "trusted": true
      },
      "cell_type": "code",
      "source": "def linear_activation(W, b, X):\n    z = np.dot(W.T,X) + b\n    \n    return z",
      "execution_count": 3,
      "outputs": []
    },
    {
      "metadata": {
        "trusted": true
      },
      "cell_type": "code",
      "source": "def sigmoid(z):\n    '''\n    Returns sigmoid activation for array z\n    '''\n    a = 1. / (1. + np.exp(-z)) \n    \n    return a ",
      "execution_count": 4,
      "outputs": []
    },
    {
      "metadata": {
        "trusted": true
      },
      "cell_type": "code",
      "source": "def loss(y, a):\n    return -(y * np.log(a) + (1-y) * np.log(1-a))",
      "execution_count": 5,
      "outputs": []
    },
    {
      "metadata": {
        "trusted": true
      },
      "cell_type": "code",
      "source": "def cost(logloss):\n    return np.mean(logloss)",
      "execution_count": 6,
      "outputs": []
    },
    {
      "metadata": {},
      "cell_type": "markdown",
      "source": "<hr>\n# Trabajemos\n3. Realicemos descenso del gradiente por cada regresor logístico.\n4. Creemos un solo regresor no lineal combinando el grafo de cómputo en cadena visto en clase y los W y b actualizados para cada regresor."
    },
    {
      "metadata": {},
      "cell_type": "markdown",
      "source": "### - Creemos los 3 datasets (X1, Y1), (X2, Y2) y (X3, Y3) según trabajamos en clase."
    },
    {
      "metadata": {
        "trusted": true
      },
      "cell_type": "code",
      "source": "X1 = np.array([[0,0],[0,1],[1,0],[1,1]]).T\nY1 = np.array([[0, 1, 0, 0]])\nprint(\"X1: \",X1, 'Y1: ', Y1)\n\nX2 = np.array([[0,0],[0,1],[1,0],[1,1]]).T\nY2 = np.array([[0, 0, 1, 0]])\nprint(\"X2: \",X2, 'Y2: ', Y2)\n\nX3 = np.array([[0,0],[0,1],[1,0]]).T\nY3 = np.array([[0, 1, 1]])\nprint(\"X3: \",X3, 'Y3: ', Y3)",
      "execution_count": 8,
      "outputs": [
        {
          "output_type": "stream",
          "text": "('X1: ', array([[0, 0, 1, 1],\n       [0, 1, 0, 1]]), 'Y1: ', array([[0, 1, 0, 0]]))\n('X2: ', array([[0, 0, 1, 1],\n       [0, 1, 0, 1]]), 'Y2: ', array([[0, 0, 1, 0]]))\n('X3: ', array([[0, 0, 1],\n       [0, 1, 0]]), 'Y3: ', array([[0, 1, 1]]))\n",
          "name": "stdout"
        }
      ]
    },
    {
      "metadata": {},
      "cell_type": "markdown",
      "source": "__Resultado esperado:__<br>\n('X1: ', array([[0, 0, 1, 1],\n       [0, 1, 0, 1]]), 'Y1: ', array([[0, 1, 1, 1]]))\n       <br>\n('X2: ', array([[0, 0, 1, 1],\n       [0, 1, 0, 1]]), 'Y2: ', array([[1, 1, 1, 0]]))\n       <br>\n('X3: ', array([[0, 1, 1, 1],\n       [1, 1, 1, 0]]), 'Y3: ', array([[0, 1, 1, 0]]))"
    },
    {
      "metadata": {},
      "cell_type": "markdown",
      "source": "### - Inicialicemos los pesos W1, W2, W3 de forma aleatoria (__np.random.rand(shape)__) y los bias b en zero."
    },
    {
      "metadata": {
        "trusted": true
      },
      "cell_type": "code",
      "source": "def initialize_parameters():\n    seed = 2\n    np.random.seed(seed)\n\n    W1 = np.random.rand(2,1)\n    b1 = 0\n\n    W2 = np.random.rand(2,1)\n    b2 = 0\n\n    W3 = np.random.rand(2,1)\n    b3 = 0\n\n    return (W1, b1, W2, b2, W3, b3)\n\n(W1,b1,W2,b2,W3,b3) = initialize_parameters()\n\nprint('W1: ', W1, 'b1: ',b1)\nprint('W2: ', W2, 'b2: ',b2)\nprint('W3: ', W3, 'b3: ',b3)",
      "execution_count": 9,
      "outputs": [
        {
          "output_type": "stream",
          "text": "('W1: ', array([[0.4359949 ],\n       [0.02592623]]), 'b1: ', 0)\n('W2: ', array([[0.54966248],\n       [0.43532239]]), 'b2: ', 0)\n('W3: ', array([[0.4203678 ],\n       [0.33033482]]), 'b3: ', 0)\n",
          "name": "stdout"
        }
      ]
    },
    {
      "metadata": {},
      "cell_type": "markdown",
      "source": "__Resultado esperado:__\n<br>\n('W1: ', array([[-0.41675785],\n       [-0.05626683]]), 'b1: ', 0)\n       <br>\n('W2: ', array([[-2.1361961 ],\n       [ 1.64027081]]), 'b2: ', 0)\n       <br>\n('W3: ', array([[-1.79343559],\n       [-0.84174737]]), 'b3: ', 0)\n"
    },
    {
      "metadata": {},
      "cell_type": "markdown",
      "source": "<hr>\n### - Apliquemos descenso del gradiente a cada regresor logístico por separado"
    },
    {
      "metadata": {
        "trusted": true
      },
      "cell_type": "code",
      "source": "def backward_propagation(A, X, Y):\n    m = X.shape[1]\n    \n    dz = A - Y\n    dW = np.dot(X, dz.T) / m\n    db = np.sum(dz) / m\n    \n    return (dW, db)",
      "execution_count": 10,
      "outputs": []
    },
    {
      "metadata": {
        "trusted": true
      },
      "cell_type": "code",
      "source": "learning_rate = 0.6\n\n(W1,b1,W2,b2,W3,b3) = initialize_parameters()\n\nnum_epochs = 10000\n\nfor i in range(num_epochs): \n    ## Forward Propagation -- a = sigmoid(z = linear_activation)\n    Z1 = linear_activation(W1,b1,X1)\n    A1 = sigmoid(Z1)\n    \n    Z2 = linear_activation(W2,b2,X2)\n    A2 = sigmoid(Z2)\n    \n    Z3 = linear_activation(W3, b3, X3)\n    A3 = sigmoid(Z3)\n    \n    #Backward Propagation -- backward_propagation(A, X, Y)\n    (dW1, db1) = backward_propagation(A1,X1, Y1)\n    (dW2, db2) = backward_propagation(A2,X2, Y2)\n    (dW3, db3) = backward_propagation(A3,X3, Y3)\n    \n    #Weight and bias Updates W = W - learning * dW  ---- b = b - learning_rate * db\n    W1 -= learning_rate * dW1\n    b1 -= learning_rate * db1\n    \n    W2 -= learning_rate * dW2\n    b2 -= learning_rate * db2\n    \n    W3 -= learning_rate * dW3\n    b3 -= learning_rate * db3\n    \n    #Cost estimation\n    J1 = cost(loss(Y1,A1))\n    J2 = cost(loss(Y2,A2))\n    J3 = cost(loss(Y3,A3))\n    \n    \n    if(i%1000 == 0):\n        print(\"costo regresor 1 -- iteracion \", i, \": \", J1)\n        print(\"costo regresor 2 -- iteracion \", i, \": \", J2)\n        print(\"costo regresor 3 -- iteracion \", i, \": \", J2)\n\nprint(\"W1 actualizado: \",W1, \"b1 actualizado: \", b1)\nprint(\"W2 actualizado: \",W2, \"b2 actualizado: \", b2)\nprint(\"W3 actualizado: \",W3, \"b3 actualizado: \", b3)",
      "execution_count": 11,
      "outputs": [
        {
          "output_type": "stream",
          "text": "('costo regresor 1 -- iteracion ', 0, ': ', 0.8146702066569141)\n('costo regresor 2 -- iteracion ', 0, ': ', 0.8463454966474182)\n('costo regresor 3 -- iteracion ', 0, ': ', 0.8463454966474182)\n('costo regresor 1 -- iteracion ', 1000, ': ', 0.015454840478135709)\n('costo regresor 2 -- iteracion ', 1000, ': ', 0.01539339446680846)\n('costo regresor 3 -- iteracion ', 1000, ': ', 0.01539339446680846)\n('costo regresor 1 -- iteracion ', 2000, ': ', 0.0076686654534003)\n('costo regresor 2 -- iteracion ', 2000, ': ', 0.00765334773476592)\n('costo regresor 3 -- iteracion ', 2000, ': ', 0.00765334773476592)\n('costo regresor 1 -- iteracion ', 3000, ': ', 0.005089136156996592)\n('costo regresor 2 -- iteracion ', 3000, ': ', 0.005082362030615173)\n('costo regresor 3 -- iteracion ', 3000, ': ', 0.005082362030615173)\n('costo regresor 1 -- iteracion ', 4000, ': ', 0.0038057728395748296)\n('costo regresor 2 -- iteracion ', 4000, ': ', 0.0038019765658749904)\n('costo regresor 3 -- iteracion ', 4000, ': ', 0.0038019765658749904)\n('costo regresor 1 -- iteracion ', 5000, ': ', 0.0030384853876089433)\n('costo regresor 2 -- iteracion ', 5000, ': ', 0.0030360625170045815)\n('costo regresor 3 -- iteracion ', 5000, ': ', 0.0030360625170045815)\n('costo regresor 1 -- iteracion ', 6000, ': ', 0.0025283075797647384)\n('costo regresor 2 -- iteracion ', 6000, ': ', 0.002526628627097121)\n('costo regresor 3 -- iteracion ', 6000, ': ', 0.002526628627097121)\n('costo regresor 1 -- iteracion ', 7000, ': ', 0.002164636342579888)\n('costo regresor 2 -- iteracion ', 7000, ': ', 0.0021634049187000317)\n('costo regresor 3 -- iteracion ', 7000, ': ', 0.0021634049187000317)\n('costo regresor 1 -- iteracion ', 8000, ': ', 0.0018923255879663026)\n('costo regresor 2 -- iteracion ', 8000, ': ', 0.0018913840807725471)\n('costo regresor 3 -- iteracion ', 8000, ': ', 0.0018913840807725471)\n('costo regresor 1 -- iteracion ', 9000, ': ', 0.001680809553531166)\n('costo regresor 2 -- iteracion ', 9000, ': ', 0.0016800665002147887)\n('costo regresor 3 -- iteracion ', 9000, ': ', 0.0016800665002147887)\n('W1 actualizado: ', array([[-12.52977958],\n       [ 12.12315063]]), 'b1 actualizado: ', -6.205650990688937)\n('W2 actualizado: ', array([[ 12.12396314],\n       [-12.53055003]]), 'b2 actualizado: ', -6.206069244673045)\n('W3 actualizado: ', array([[12.88081543],\n       [12.88081475]]), 'b3 actualizado: ', -5.981420969829033)\n",
          "name": "stdout"
        }
      ]
    },
    {
      "metadata": {},
      "cell_type": "markdown",
      "source": "### - verifiquemos las predicciones por cada regresor logístico ya entrenado."
    },
    {
      "metadata": {
        "trusted": true
      },
      "cell_type": "code",
      "source": "def predict(W,b,X):\n    z = linear_activation(W,b,X)\n    A = sigmoid(z)\n    return np.round(A)",
      "execution_count": 19,
      "outputs": []
    },
    {
      "metadata": {
        "trusted": true
      },
      "cell_type": "code",
      "source": "predict(W3, b3, np.array([0,0]))",
      "execution_count": 25,
      "outputs": [
        {
          "output_type": "execute_result",
          "execution_count": 25,
          "data": {
            "text/plain": "array([0.])"
          },
          "metadata": {}
        }
      ]
    },
    {
      "metadata": {
        "trusted": false
      },
      "cell_type": "code",
      "source": "Y_hat1 = predict(W1,b1,X1)\nY_hat2 = predict(W2,b2,X2)\nY_hat3 = predict(W3,b3,X3)\nprint(\"predicciones regresor 1: \",np.round(Y_hat1),\"--- Clases originales: \", Y1)\nprint(\"predicciones regresor 2: \",np.round(Y_hat2),\"--- Clases originales: \", Y2)\nprint(\"predicciones regresor 3: \",np.round(Y_hat3),\"--- Clases originales: \", Y3)",
      "execution_count": 137,
      "outputs": [
        {
          "name": "stdout",
          "output_type": "stream",
          "text": "('predicciones regresor 1: ', array([[ 0.,  1.,  1.,  1.]]), '--- Clases originales: ', array([[0, 1, 1, 1]]))\n('predicciones regresor 2: ', array([[ 1.,  1.,  1.,  0.]]), '--- Clases originales: ', array([[1, 1, 1, 0]]))\n('predicciones regresor 3: ', array([[ 0.,  1.,  1.,  0.]]), '--- Clases originales: ', array([[0, 1, 1, 0]]))\n"
        }
      ]
    },
    {
      "metadata": {},
      "cell_type": "markdown",
      "source": "__Resultado esperado:__\n<br>\n('predicciones regresor 1: ', array([[ 0.,  1.,  1.,  1.]]), '--- Clases originales: ', array([[0, 1, 1, 1]]))\n<br>\n('predicciones regresor 2: ', array([[ 1.,  1.,  1.,  0.]]), '--- Clases originales: ', array([[1, 1, 1, 0]]))\n<br>\n('predicciones regresor 3: ', array([[ 0.,  1.,  1.,  0.]]), '--- Clases originales: ', array([[0, 1, 1, 0]]))\n"
    },
    {
      "metadata": {},
      "cell_type": "markdown",
      "source": "<hr>\n### - Agrupemos los tres regresores en capas\n<img src='res/shallow_nn/compute_graph_3.png' width=800>"
    },
    {
      "metadata": {
        "trusted": true
      },
      "cell_type": "code",
      "source": "np.concatenate??",
      "execution_count": 31,
      "outputs": []
    },
    {
      "metadata": {
        "trusted": true
      },
      "cell_type": "code",
      "source": "def predict_multilayer(W1,b1,W2,b2,W3,b3,X):\n    Z1 = linear_activation(W1,b1,X)\n    A1 = sigmoid(Z1)\n    \n    Z2 = linear_activation(W2, b2, X)\n    A2 = sigmoid(Z2)\n    \n    #A1 and A2 are inputs for z3. Use np.concatenate((A1,A2),axis=0) to create X3\n    X3 = np.concatenate((A1, A2))\n    Z3 = linear_activation(W3, b3, X3)\n    A3 = sigmoid(Z3)\n    \n    return np.round(A3)\n\nA3 = predict_multilayer(W1,b1,W2,b2,W3,b3,X1)\nprint(X1)\nprint(A3)",
      "execution_count": 34,
      "outputs": [
        {
          "output_type": "stream",
          "text": "[[0 0 1 1]\n [0 1 0 1]]\n[[0. 1. 1. 0.]]\n",
          "name": "stdout"
        }
      ]
    },
    {
      "metadata": {},
      "cell_type": "markdown",
      "source": "__Resultado esperado:__[[ 0.  1.  1.  0.]]"
    },
    {
      "metadata": {},
      "cell_type": "markdown",
      "source": "# Apliquemos nuestro regresor multicapa al problema XOR\n----- Solo ejecutar celdas -----"
    },
    {
      "metadata": {
        "trusted": true
      },
      "cell_type": "code",
      "source": "import matplotlib.pyplot as plt\n\nX = np.array([[0,0],[0,1],[1,0],[1,1]])\nY = np.array([[0, 1, 1, 0]])\n\ncolor= ['blue' if y == 1 else 'red' for y in np.squeeze(Y)]\n\nplt.figure(figsize=(7,5))\nplt.scatter(X[:,0], X[:,1], color=color)\n\nplt.show()\n\nX = X.T",
      "execution_count": 35,
      "outputs": [
        {
          "output_type": "display_data",
          "data": {
            "image/png": "[encoded data removed]",
            "text/plain": "<Figure size 504x360 with 1 Axes>"
          },
          "metadata": {
            "needs_background": "light"
          }
        }
      ]
    },
    {
      "metadata": {
        "trusted": true
      },
      "cell_type": "code",
      "source": "def visualize_lr(W1, b1, W2, b2, W3, b3, X, Y):\n    X = X.T\n    # Set min and max values and give it some padding\n    x_min, x_max = X[:, 0].min() - .5, X[:, 0].max() + .5\n    y_min, y_max = X[:, 1].min() - .5, X[:, 1].max() + .5\n    h = 0.01\n    # Generate a grid of points with distance h between them\n    xx, yy = np.meshgrid(np.arange(x_min, x_max, h), np.arange(y_min, y_max, h))\n    # Predict the function value for the whole gid\n    #Z = pred_func(W,b,np.c_[xx.ravel(), yy.ravel()])\n    Z = predict_multilayer(W1,b1,W2,b2,W3,b3,np.c_[xx.ravel(), yy.ravel()].T)\n    print(Z)\n    Z = Z.reshape(xx.shape)\n    # Plot the contour and training examples\n    plt.figure(figsize=(7,5))\n    plt.contourf(xx, yy, Z, cmap=plt.cm.Spectral)\n    \n    color= ['blue' if y == 1 else 'red' for y in np.squeeze(Y)]\n    plt.scatter(X[:,0], X[:,1], color=color)\n    \n    plt.show()",
      "execution_count": 36,
      "outputs": []
    },
    {
      "metadata": {
        "scrolled": true,
        "trusted": true
      },
      "cell_type": "code",
      "source": "visualize_lr(W1, b1, W2, b2, W3, b3, X, Y)",
      "execution_count": 37,
      "outputs": [
        {
          "output_type": "stream",
          "text": "[[0. 0. 0. ... 0. 0. 0.]]\n",
          "name": "stdout"
        },
        {
          "output_type": "display_data",
          "data": {
            "image/png": "[encoded data removed]",
            "text/plain": "<Figure size 504x360 with 1 Axes>"
          },
          "metadata": {
            "needs_background": "light"
          }
        }
      ]
    },
    {
      "metadata": {
        "trusted": true
      },
      "cell_type": "code",
      "source": "print(W1,b1)\nprint(W2, b2)",
      "execution_count": 38,
      "outputs": [
        {
          "output_type": "stream",
          "text": "(array([[-12.52977958],\n       [ 12.12315063]]), -6.205650990688937)\n(array([[ 12.12396314],\n       [-12.53055003]]), -6.206069244673045)\n",
          "name": "stdout"
        }
      ]
    },
    {
      "metadata": {
        "trusted": true
      },
      "cell_type": "code",
      "source": "z1 = linear_activation(W1, b1, X1)\nz2 = linear_activation(W2, b2, X2)\n\nprint(\"X: \",X)\nprint(z1, z2)",
      "execution_count": 40,
      "outputs": [
        {
          "output_type": "stream",
          "text": "('X: ', array([[0, 0, 1, 1],\n       [0, 1, 0, 1]]))\n(array([[ -6.20565099,   5.91749964, -18.73543057,  -6.61227994]]), array([[ -6.20606924, -18.73661927,   5.9178939 ,  -6.61265613]]))\n",
          "name": "stdout"
        }
      ]
    },
    {
      "metadata": {
        "trusted": true
      },
      "cell_type": "code",
      "source": "W_1 = np.squeeze(np.array([W1,W2]))\nb_1 = np.array([[b1,b2]]).T\nprint(W_1)\nprint(b_1)",
      "execution_count": 60,
      "outputs": [
        {
          "output_type": "stream",
          "text": "[[-12.52977958  12.12315063]\n [ 12.12396314 -12.53055003]]\n[[-6.20565099]\n [-6.20606924]]\n",
          "name": "stdout"
        }
      ]
    },
    {
      "metadata": {
        "trusted": true
      },
      "cell_type": "code",
      "source": "Z = np.dot(W_1,X)+b_1",
      "execution_count": 63,
      "outputs": []
    },
    {
      "metadata": {
        "trusted": true
      },
      "cell_type": "code",
      "source": "print(Z)",
      "execution_count": 64,
      "outputs": [
        {
          "output_type": "stream",
          "text": "[[ -6.20565099   5.91749964 -18.73543057  -6.61227994]\n [ -6.20606924 -18.73661927   5.9178939   -6.61265613]]\n",
          "name": "stdout"
        }
      ]
    },
    {
      "metadata": {
        "trusted": true
      },
      "cell_type": "code",
      "source": "",
      "execution_count": null,
      "outputs": []
    }
  ],
  "metadata": {
    "kernelspec": {
      "name": "python2",
      "display_name": "Python 2",
      "language": "python"
    },
    "language_info": {
      "mimetype": "text/x-python",
      "nbconvert_exporter": "python",
      "name": "python",
      "pygments_lexer": "ipython2",
      "version": "2.7.15",
      "file_extension": ".py",
      "codemirror_mode": {
        "version": 2,
        "name": "ipython"
      }
    }
  },
  "nbformat": 4,
  "nbformat_minor": 2
}
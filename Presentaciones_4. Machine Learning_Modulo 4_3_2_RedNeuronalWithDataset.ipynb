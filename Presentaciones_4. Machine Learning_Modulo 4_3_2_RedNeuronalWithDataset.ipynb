{
  "cells": [
    {
      "metadata": {},
      "cell_type": "markdown",
      "source": "<img src=\"res/itm_logo.jpg\" width=\"300px\">\n\n## Inteligencia Artificial - IAI84\n### Instituto Tecnológico Metropolitano\n#### Pedro Atencio Ortiz - 2019\n\nEn este notebook aplicamos una red neuronal en Keras a un dataset de clasificación.\n\nAgenda:\n\n1. Funciones de activación."
    },
    {
      "metadata": {
        "trusted": true
      },
      "cell_type": "code",
      "source": "import numpy as np\nimport matplotlib.pyplot as plt\nimport tensorflow as tf\nimport keras",
      "execution_count": 2,
      "outputs": [
        {
          "output_type": "stream",
          "text": "Using TensorFlow backend.\n",
          "name": "stderr"
        }
      ]
    },
    {
      "metadata": {},
      "cell_type": "markdown",
      "source": "<hr>\n\n## 1. Funciones de activación"
    },
    {
      "metadata": {
        "trusted": true
      },
      "cell_type": "code",
      "source": "def sigmoid(z):\n    return 1. / (1 + np.exp(-z))\n\ndef softmax(z):\n    return np.exp(z) / np.sum(np.exp(z))",
      "execution_count": 3,
      "outputs": []
    },
    {
      "metadata": {
        "trusted": true
      },
      "cell_type": "code",
      "source": "z = np.array([0.8, 10.4, 3.2, 1.1])\nprint(np.round(sigmoid(z)))\nprint(np.round(softmax(z)))",
      "execution_count": 3,
      "outputs": [
        {
          "output_type": "stream",
          "text": "[1. 1. 1. 1.]\n[0. 1. 0. 0.]\n",
          "name": "stdout"
        }
      ]
    },
    {
      "metadata": {},
      "cell_type": "markdown",
      "source": "### Trabajemos\n\nPruebe la función de activación softmax con una entrada $z = [0.1, -1.4, 3.2, 1.1]$.\n\n__Resultado esperado__: $[0,0,1,0]$"
    },
    {
      "metadata": {
        "trusted": true
      },
      "cell_type": "code",
      "source": "#Completar el codigo\nz = None\nprint(None)",
      "execution_count": null,
      "outputs": []
    },
    {
      "metadata": {},
      "cell_type": "markdown",
      "source": "<hr>\n\n## Recordemos\n\nConstrucción de una red neuronal simple en Keras"
    },
    {
      "metadata": {
        "trusted": true
      },
      "cell_type": "code",
      "source": "X = np.array([[0,0],[0,1],[1,0],[1,1]])\nY = np.array([[0], [1], [1], [0]])",
      "execution_count": 4,
      "outputs": []
    },
    {
      "metadata": {
        "trusted": true
      },
      "cell_type": "code",
      "source": "model = keras.Sequential()\n\ncapa1 = keras.layers.Dense(units=5, activation='sigmoid', input_dim=2) #Dense = capas totalmente conectadas\nmodel.add(capa1)\n\ncapa2 = keras.layers.Dense(units=1, activation='sigmoid')\nmodel.add(capa2)\n\nopt = keras.optimizers.RMSprop(lr=0.01)\nmodel.compile(optimizer=opt, loss='binary_crossentropy')\n\nhistory = model.fit(X, Y, epochs=3000, verbose=False)",
      "execution_count": 5,
      "outputs": []
    },
    {
      "metadata": {
        "trusted": true
      },
      "cell_type": "code",
      "source": "plt.plot(history.history['loss'])\nplt.show()",
      "execution_count": 6,
      "outputs": [
        {
          "output_type": "display_data",
          "data": {
            "image/png": "[encoded data removed]",
            "text/plain": "<Figure size 432x288 with 1 Axes>"
          },
          "metadata": {
            "needs_background": "light"
          }
        }
      ]
    },
    {
      "metadata": {
        "trusted": true
      },
      "cell_type": "code",
      "source": "model.evaluate(X,Y)",
      "execution_count": 7,
      "outputs": [
        {
          "output_type": "stream",
          "text": "\r4/4 [==============================] - 0s 9ms/step\n",
          "name": "stdout"
        },
        {
          "output_type": "execute_result",
          "execution_count": 7,
          "data": {
            "text/plain": "1.0960467022869125e-07"
          },
          "metadata": {}
        }
      ]
    },
    {
      "metadata": {},
      "cell_type": "markdown",
      "source": "<hr>\n\n## MNIST Fashion Dataset --> Multiclass Classification"
    },
    {
      "metadata": {
        "trusted": true
      },
      "cell_type": "code",
      "source": "mnist = keras.datasets.fashion_mnist",
      "execution_count": 8,
      "outputs": []
    },
    {
      "metadata": {
        "trusted": true
      },
      "cell_type": "code",
      "source": "(training_images, training_labels), (test_images, test_labels) = mnist.load_data()\nprint(training_images.shape)\nprint(training_labels.shape)\nprint(\"Categorias del dataset: \",np.unique(training_labels))",
      "execution_count": 9,
      "outputs": [
        {
          "output_type": "stream",
          "text": "(60000, 28, 28)\n(60000,)\n('Categorias del dataset: ', array([0, 1, 2, 3, 4, 5, 6, 7, 8, 9], dtype=uint8))\n",
          "name": "stdout"
        }
      ]
    },
    {
      "metadata": {
        "trusted": true
      },
      "cell_type": "code",
      "source": "#Despleguemos ejemplos del dataset por categoria\n\nfig = plt.figure(figsize=(10,5))\nfig.suptitle(\"Categorias del dataset Fashion MNIST\")\nplt.subplots_adjust(wspace=0.5)\n\nfor j in range(10): #10 categorias\n    for i in range(10000): #60000 ejemplos en el dataset de prueba\n        if(test_labels[i] == j):\n            plt.subplot(2,5,j+1)\n            plt.title(\"Categoria: \"+str(j))\n            plt.imshow(test_images[i], cmap='gray')\n            break\nplt.show()",
      "execution_count": 10,
      "outputs": [
        {
          "output_type": "display_data",
          "data": {
            "image/png": "[encoded data removed]",
            "text/plain": "<Figure size 720x360 with 10 Axes>"
          },
          "metadata": {
            "needs_background": "light"
          }
        }
      ]
    },
    {
      "metadata": {
        "trusted": true
      },
      "cell_type": "code",
      "source": "training_images[0].shape",
      "execution_count": 11,
      "outputs": [
        {
          "output_type": "execute_result",
          "execution_count": 11,
          "data": {
            "text/plain": "(28, 28)"
          },
          "metadata": {}
        }
      ]
    },
    {
      "metadata": {
        "trusted": true
      },
      "cell_type": "code",
      "source": "np.min(training_images[0])",
      "execution_count": 12,
      "outputs": [
        {
          "output_type": "execute_result",
          "execution_count": 12,
          "data": {
            "text/plain": "0"
          },
          "metadata": {}
        }
      ]
    },
    {
      "metadata": {
        "trusted": true
      },
      "cell_type": "code",
      "source": "print(test_labels)",
      "execution_count": 13,
      "outputs": [
        {
          "output_type": "stream",
          "text": "[9 2 1 ... 8 1 5]\n",
          "name": "stdout"
        }
      ]
    },
    {
      "metadata": {
        "trusted": true
      },
      "cell_type": "code",
      "source": "#Normalizacion de los datos\ntraining_images  = training_images / 255.0\ntest_images = test_images / 255.0",
      "execution_count": 14,
      "outputs": []
    },
    {
      "metadata": {
        "trusted": true
      },
      "cell_type": "code",
      "source": "model = keras.Sequential()\n\nmodel.add(keras.layers.Flatten())\n\nmodel.add(keras.layers.Dense(units=256, activation=tf.nn.relu))\nmodel.add(keras.layers.Dense(units=256, activation=tf.nn.relu))\nmodel.add(keras.layers.Dense(units=10, activation=tf.nn.softmax))",
      "execution_count": 15,
      "outputs": []
    },
    {
      "metadata": {
        "trusted": true
      },
      "cell_type": "code",
      "source": "optimizer = keras.optimizers.Adam(lr=0.0001) #si utilizamos RMSProp?\n\nmodel.compile(optimizer = optimizer, loss = 'sparse_categorical_crossentropy', metrics=['accuracy'])\n\nhistory = model.fit(training_images, training_labels, epochs=5)",
      "execution_count": 16,
      "outputs": [
        {
          "output_type": "stream",
          "text": "Epoch 1/5\n60000/60000 [==============================] - 19s 319us/step - loss: 0.5844 - acc: 0.8037\nEpoch 2/5\n60000/60000 [==============================] - 16s 264us/step - loss: 0.4080 - acc: 0.8572\nEpoch 3/5\n60000/60000 [==============================] - 16s 269us/step - loss: 0.3687 - acc: 0.8693\nEpoch 4/5\n60000/60000 [==============================] - 17s 278us/step - loss: 0.3427 - acc: 0.8775\nEpoch 5/5\n60000/60000 [==============================] - 19s 311us/step - loss: 0.3247 - acc: 0.8833\n",
          "name": "stdout"
        }
      ]
    },
    {
      "metadata": {
        "trusted": true
      },
      "cell_type": "code",
      "source": "plt.plot(history.history['loss'])\nplt.show()",
      "execution_count": 17,
      "outputs": [
        {
          "output_type": "display_data",
          "data": {
            "image/png": "[encoded data removed]",
            "text/plain": "<Figure size 432x288 with 1 Axes>"
          },
          "metadata": {
            "needs_background": "light"
          }
        }
      ]
    },
    {
      "metadata": {
        "trusted": true
      },
      "cell_type": "code",
      "source": "model.evaluate(test_images, test_labels)",
      "execution_count": 18,
      "outputs": [
        {
          "output_type": "stream",
          "text": "10000/10000 [==============================] - 1s 85us/step\n",
          "name": "stdout"
        },
        {
          "output_type": "execute_result",
          "execution_count": 18,
          "data": {
            "text/plain": "[0.3651870838880539, 0.8697]"
          },
          "metadata": {}
        }
      ]
    },
    {
      "metadata": {
        "trusted": true
      },
      "cell_type": "code",
      "source": "img = training_images[100]\nprint(training_labels[100])\nplt.imshow(img)\nplt.show()",
      "execution_count": 19,
      "outputs": [
        {
          "output_type": "stream",
          "text": "8\n",
          "name": "stdout"
        },
        {
          "output_type": "display_data",
          "data": {
            "image/png": "[encoded data removed]",
            "text/plain": "<Figure size 432x288 with 1 Axes>"
          },
          "metadata": {
            "needs_background": "light"
          }
        }
      ]
    },
    {
      "metadata": {
        "trusted": true
      },
      "cell_type": "code",
      "source": "img = training_images[100]\nimg = img.reshape(1,28,28)\n\npred = model.predict(img)\nprint(np.argmax(pred))\n",
      "execution_count": 20,
      "outputs": [
        {
          "output_type": "stream",
          "text": "8\n",
          "name": "stdout"
        }
      ]
    },
    {
      "metadata": {
        "trusted": true
      },
      "cell_type": "code",
      "source": "np.argmax(np.array([1,2,3,-1,10,4]))",
      "execution_count": 21,
      "outputs": [
        {
          "output_type": "execute_result",
          "execution_count": 21,
          "data": {
            "text/plain": "4"
          },
          "metadata": {}
        }
      ]
    },
    {
      "metadata": {},
      "cell_type": "markdown",
      "source": "<hr>\n\n## Trabajemos\n\n1. ¿Qué desventaja tiene la capa Flatten para la clasificación de imágenes? ¿Funciona el sistema visual humano de esta forma?\n2. Evalúe distintos valores de tasa de aprendizaje y discuta su impacto en el entrenamiento y en el error obtenido.\n3. Evalúe distintos números de neuronas en la penúltima capa y discuta su impacto en el entrenamiento y en el error obtenido.\n4. Evalúe distintos números de capas y neuronas en cada capa y discuta su impacto en el entrenamiento y en el error obtenido.\n5. Ingrese una imagen de entrada al modelo ya entrenado e imprima la clase predicha."
    },
    {
      "metadata": {
        "trusted": true
      },
      "cell_type": "code",
      "source": "",
      "execution_count": null,
      "outputs": []
    }
  ],
  "metadata": {
    "kernelspec": {
      "name": "python2",
      "display_name": "Python 2",
      "language": "python"
    },
    "language_info": {
      "mimetype": "text/x-python",
      "nbconvert_exporter": "python",
      "name": "python",
      "pygments_lexer": "ipython2",
      "version": "2.7.15",
      "file_extension": ".py",
      "codemirror_mode": {
        "version": 2,
        "name": "ipython"
      }
    }
  },
  "nbformat": 4,
  "nbformat_minor": 2
}